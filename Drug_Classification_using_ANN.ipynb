{
  "nbformat": 4,
  "nbformat_minor": 0,
  "metadata": {
    "colab": {
      "provenance": [],
      "authorship_tag": "ABX9TyN1Et2qM/WFT+rLOoVgWBZs",
      "include_colab_link": true
    },
    "kernelspec": {
      "name": "python3",
      "display_name": "Python 3"
    },
    "language_info": {
      "name": "python"
    }
  },
  "cells": [
    {
      "cell_type": "markdown",
      "metadata": {
        "id": "view-in-github",
        "colab_type": "text"
      },
      "source": [
        "<a href=\"https://colab.research.google.com/github/pavanm555/Artificial-Intelligence/blob/main/Drug_Classification_using_ANN.ipynb\" target=\"_parent\"><img src=\"https://colab.research.google.com/assets/colab-badge.svg\" alt=\"Open In Colab\"/></a>"
      ]
    },
    {
      "cell_type": "markdown",
      "source": [
        "Task 1: Read the dataset and do data pre-processing"
      ],
      "metadata": {
        "id": "T69Rc6diA1By"
      }
    },
    {
      "cell_type": "code",
      "execution_count": null,
      "metadata": {
        "id": "xlDMtevd25N3"
      },
      "outputs": [],
      "source": [
        "# Importing the necessary libraries\n",
        "import numpy as np\n",
        "import pandas as pd\n",
        "import matplotlib.pyplot as plt\n",
        "import seaborn as sns\n",
        "from sklearn.model_selection import train_test_split\n",
        "from sklearn.preprocessing import LabelEncoder\n",
        "from tensorflow.keras.models import Sequential\n",
        "from tensorflow.keras.layers import Dense"
      ]
    },
    {
      "cell_type": "code",
      "source": [
        "# Load the dataset\n",
        "df = pd.read_csv(\"/content/drug200.csv\")\n",
        "df.head()"
      ],
      "metadata": {
        "colab": {
          "base_uri": "https://localhost:8080/",
          "height": 206
        },
        "id": "ZXPyvcpV3g0w",
        "outputId": "e34bcc62-42ce-45ce-f112-043cbb4f6352"
      },
      "execution_count": null,
      "outputs": [
        {
          "output_type": "execute_result",
          "data": {
            "text/plain": [
              "   Age Sex      BP Cholesterol  Na_to_K   Drug\n",
              "0   23   F    HIGH        HIGH   25.355  DrugY\n",
              "1   47   M     LOW        HIGH   13.093  drugC\n",
              "2   47   M     LOW        HIGH   10.114  drugC\n",
              "3   28   F  NORMAL        HIGH    7.798  drugX\n",
              "4   61   F     LOW        HIGH   18.043  DrugY"
            ],
            "text/html": [
              "\n",
              "  <div id=\"df-c0a6a02a-b9f1-4461-ac48-db7dc6058f47\">\n",
              "    <div class=\"colab-df-container\">\n",
              "      <div>\n",
              "<style scoped>\n",
              "    .dataframe tbody tr th:only-of-type {\n",
              "        vertical-align: middle;\n",
              "    }\n",
              "\n",
              "    .dataframe tbody tr th {\n",
              "        vertical-align: top;\n",
              "    }\n",
              "\n",
              "    .dataframe thead th {\n",
              "        text-align: right;\n",
              "    }\n",
              "</style>\n",
              "<table border=\"1\" class=\"dataframe\">\n",
              "  <thead>\n",
              "    <tr style=\"text-align: right;\">\n",
              "      <th></th>\n",
              "      <th>Age</th>\n",
              "      <th>Sex</th>\n",
              "      <th>BP</th>\n",
              "      <th>Cholesterol</th>\n",
              "      <th>Na_to_K</th>\n",
              "      <th>Drug</th>\n",
              "    </tr>\n",
              "  </thead>\n",
              "  <tbody>\n",
              "    <tr>\n",
              "      <th>0</th>\n",
              "      <td>23</td>\n",
              "      <td>F</td>\n",
              "      <td>HIGH</td>\n",
              "      <td>HIGH</td>\n",
              "      <td>25.355</td>\n",
              "      <td>DrugY</td>\n",
              "    </tr>\n",
              "    <tr>\n",
              "      <th>1</th>\n",
              "      <td>47</td>\n",
              "      <td>M</td>\n",
              "      <td>LOW</td>\n",
              "      <td>HIGH</td>\n",
              "      <td>13.093</td>\n",
              "      <td>drugC</td>\n",
              "    </tr>\n",
              "    <tr>\n",
              "      <th>2</th>\n",
              "      <td>47</td>\n",
              "      <td>M</td>\n",
              "      <td>LOW</td>\n",
              "      <td>HIGH</td>\n",
              "      <td>10.114</td>\n",
              "      <td>drugC</td>\n",
              "    </tr>\n",
              "    <tr>\n",
              "      <th>3</th>\n",
              "      <td>28</td>\n",
              "      <td>F</td>\n",
              "      <td>NORMAL</td>\n",
              "      <td>HIGH</td>\n",
              "      <td>7.798</td>\n",
              "      <td>drugX</td>\n",
              "    </tr>\n",
              "    <tr>\n",
              "      <th>4</th>\n",
              "      <td>61</td>\n",
              "      <td>F</td>\n",
              "      <td>LOW</td>\n",
              "      <td>HIGH</td>\n",
              "      <td>18.043</td>\n",
              "      <td>DrugY</td>\n",
              "    </tr>\n",
              "  </tbody>\n",
              "</table>\n",
              "</div>\n",
              "      <button class=\"colab-df-convert\" onclick=\"convertToInteractive('df-c0a6a02a-b9f1-4461-ac48-db7dc6058f47')\"\n",
              "              title=\"Convert this dataframe to an interactive table.\"\n",
              "              style=\"display:none;\">\n",
              "        \n",
              "  <svg xmlns=\"http://www.w3.org/2000/svg\" height=\"24px\"viewBox=\"0 0 24 24\"\n",
              "       width=\"24px\">\n",
              "    <path d=\"M0 0h24v24H0V0z\" fill=\"none\"/>\n",
              "    <path d=\"M18.56 5.44l.94 2.06.94-2.06 2.06-.94-2.06-.94-.94-2.06-.94 2.06-2.06.94zm-11 1L8.5 8.5l.94-2.06 2.06-.94-2.06-.94L8.5 2.5l-.94 2.06-2.06.94zm10 10l.94 2.06.94-2.06 2.06-.94-2.06-.94-.94-2.06-.94 2.06-2.06.94z\"/><path d=\"M17.41 7.96l-1.37-1.37c-.4-.4-.92-.59-1.43-.59-.52 0-1.04.2-1.43.59L10.3 9.45l-7.72 7.72c-.78.78-.78 2.05 0 2.83L4 21.41c.39.39.9.59 1.41.59.51 0 1.02-.2 1.41-.59l7.78-7.78 2.81-2.81c.8-.78.8-2.07 0-2.86zM5.41 20L4 18.59l7.72-7.72 1.47 1.35L5.41 20z\"/>\n",
              "  </svg>\n",
              "      </button>\n",
              "      \n",
              "  <style>\n",
              "    .colab-df-container {\n",
              "      display:flex;\n",
              "      flex-wrap:wrap;\n",
              "      gap: 12px;\n",
              "    }\n",
              "\n",
              "    .colab-df-convert {\n",
              "      background-color: #E8F0FE;\n",
              "      border: none;\n",
              "      border-radius: 50%;\n",
              "      cursor: pointer;\n",
              "      display: none;\n",
              "      fill: #1967D2;\n",
              "      height: 32px;\n",
              "      padding: 0 0 0 0;\n",
              "      width: 32px;\n",
              "    }\n",
              "\n",
              "    .colab-df-convert:hover {\n",
              "      background-color: #E2EBFA;\n",
              "      box-shadow: 0px 1px 2px rgba(60, 64, 67, 0.3), 0px 1px 3px 1px rgba(60, 64, 67, 0.15);\n",
              "      fill: #174EA6;\n",
              "    }\n",
              "\n",
              "    [theme=dark] .colab-df-convert {\n",
              "      background-color: #3B4455;\n",
              "      fill: #D2E3FC;\n",
              "    }\n",
              "\n",
              "    [theme=dark] .colab-df-convert:hover {\n",
              "      background-color: #434B5C;\n",
              "      box-shadow: 0px 1px 3px 1px rgba(0, 0, 0, 0.15);\n",
              "      filter: drop-shadow(0px 1px 2px rgba(0, 0, 0, 0.3));\n",
              "      fill: #FFFFFF;\n",
              "    }\n",
              "  </style>\n",
              "\n",
              "      <script>\n",
              "        const buttonEl =\n",
              "          document.querySelector('#df-c0a6a02a-b9f1-4461-ac48-db7dc6058f47 button.colab-df-convert');\n",
              "        buttonEl.style.display =\n",
              "          google.colab.kernel.accessAllowed ? 'block' : 'none';\n",
              "\n",
              "        async function convertToInteractive(key) {\n",
              "          const element = document.querySelector('#df-c0a6a02a-b9f1-4461-ac48-db7dc6058f47');\n",
              "          const dataTable =\n",
              "            await google.colab.kernel.invokeFunction('convertToInteractive',\n",
              "                                                     [key], {});\n",
              "          if (!dataTable) return;\n",
              "\n",
              "          const docLinkHtml = 'Like what you see? Visit the ' +\n",
              "            '<a target=\"_blank\" href=https://colab.research.google.com/notebooks/data_table.ipynb>data table notebook</a>'\n",
              "            + ' to learn more about interactive tables.';\n",
              "          element.innerHTML = '';\n",
              "          dataTable['output_type'] = 'display_data';\n",
              "          await google.colab.output.renderOutput(dataTable, element);\n",
              "          const docLink = document.createElement('div');\n",
              "          docLink.innerHTML = docLinkHtml;\n",
              "          element.appendChild(docLink);\n",
              "        }\n",
              "      </script>\n",
              "    </div>\n",
              "  </div>\n",
              "  "
            ]
          },
          "metadata": {},
          "execution_count": 233
        }
      ]
    },
    {
      "cell_type": "code",
      "source": [
        "df.shape"
      ],
      "metadata": {
        "colab": {
          "base_uri": "https://localhost:8080/"
        },
        "id": "c7OqgLOo31OL",
        "outputId": "1ed8ed86-f84a-4b04-c447-2f2100a41374"
      },
      "execution_count": null,
      "outputs": [
        {
          "output_type": "execute_result",
          "data": {
            "text/plain": [
              "(200, 6)"
            ]
          },
          "metadata": {},
          "execution_count": 234
        }
      ]
    },
    {
      "cell_type": "code",
      "source": [
        "df.info()"
      ],
      "metadata": {
        "colab": {
          "base_uri": "https://localhost:8080/"
        },
        "id": "SFZbdOv1G_u2",
        "outputId": "60726058-cacf-4618-8d97-5860350436e3"
      },
      "execution_count": null,
      "outputs": [
        {
          "output_type": "stream",
          "name": "stdout",
          "text": [
            "<class 'pandas.core.frame.DataFrame'>\n",
            "RangeIndex: 200 entries, 0 to 199\n",
            "Data columns (total 6 columns):\n",
            " #   Column       Non-Null Count  Dtype  \n",
            "---  ------       --------------  -----  \n",
            " 0   Age          200 non-null    int64  \n",
            " 1   Sex          200 non-null    object \n",
            " 2   BP           200 non-null    object \n",
            " 3   Cholesterol  200 non-null    object \n",
            " 4   Na_to_K      200 non-null    float64\n",
            " 5   Drug         200 non-null    object \n",
            "dtypes: float64(1), int64(1), object(4)\n",
            "memory usage: 9.5+ KB\n"
          ]
        }
      ]
    },
    {
      "cell_type": "code",
      "source": [
        "# Checking null values\n",
        "df.isnull().sum()"
      ],
      "metadata": {
        "colab": {
          "base_uri": "https://localhost:8080/"
        },
        "id": "MeH1js4p4C9b",
        "outputId": "4618266e-8d21-45c1-84a6-92c4ca77bc22"
      },
      "execution_count": null,
      "outputs": [
        {
          "output_type": "execute_result",
          "data": {
            "text/plain": [
              "Age            0\n",
              "Sex            0\n",
              "BP             0\n",
              "Cholesterol    0\n",
              "Na_to_K        0\n",
              "Drug           0\n",
              "dtype: int64"
            ]
          },
          "metadata": {},
          "execution_count": 236
        }
      ]
    },
    {
      "cell_type": "code",
      "source": [
        "df.describe(include = \"all\")"
      ],
      "metadata": {
        "colab": {
          "base_uri": "https://localhost:8080/",
          "height": 394
        },
        "id": "7g2LNXTX4RUc",
        "outputId": "58a07418-7474-41a6-ed00-634ff592561c"
      },
      "execution_count": null,
      "outputs": [
        {
          "output_type": "execute_result",
          "data": {
            "text/plain": [
              "               Age  Sex    BP Cholesterol     Na_to_K   Drug\n",
              "count   200.000000  200   200         200  200.000000    200\n",
              "unique         NaN    2     3           2         NaN      5\n",
              "top            NaN    M  HIGH        HIGH         NaN  DrugY\n",
              "freq           NaN  104    77         103         NaN     91\n",
              "mean     44.315000  NaN   NaN         NaN   16.084485    NaN\n",
              "std      16.544315  NaN   NaN         NaN    7.223956    NaN\n",
              "min      15.000000  NaN   NaN         NaN    6.269000    NaN\n",
              "25%      31.000000  NaN   NaN         NaN   10.445500    NaN\n",
              "50%      45.000000  NaN   NaN         NaN   13.936500    NaN\n",
              "75%      58.000000  NaN   NaN         NaN   19.380000    NaN\n",
              "max      74.000000  NaN   NaN         NaN   38.247000    NaN"
            ],
            "text/html": [
              "\n",
              "  <div id=\"df-1f8b6ef9-1c77-41a0-a629-2e8623c3212c\">\n",
              "    <div class=\"colab-df-container\">\n",
              "      <div>\n",
              "<style scoped>\n",
              "    .dataframe tbody tr th:only-of-type {\n",
              "        vertical-align: middle;\n",
              "    }\n",
              "\n",
              "    .dataframe tbody tr th {\n",
              "        vertical-align: top;\n",
              "    }\n",
              "\n",
              "    .dataframe thead th {\n",
              "        text-align: right;\n",
              "    }\n",
              "</style>\n",
              "<table border=\"1\" class=\"dataframe\">\n",
              "  <thead>\n",
              "    <tr style=\"text-align: right;\">\n",
              "      <th></th>\n",
              "      <th>Age</th>\n",
              "      <th>Sex</th>\n",
              "      <th>BP</th>\n",
              "      <th>Cholesterol</th>\n",
              "      <th>Na_to_K</th>\n",
              "      <th>Drug</th>\n",
              "    </tr>\n",
              "  </thead>\n",
              "  <tbody>\n",
              "    <tr>\n",
              "      <th>count</th>\n",
              "      <td>200.000000</td>\n",
              "      <td>200</td>\n",
              "      <td>200</td>\n",
              "      <td>200</td>\n",
              "      <td>200.000000</td>\n",
              "      <td>200</td>\n",
              "    </tr>\n",
              "    <tr>\n",
              "      <th>unique</th>\n",
              "      <td>NaN</td>\n",
              "      <td>2</td>\n",
              "      <td>3</td>\n",
              "      <td>2</td>\n",
              "      <td>NaN</td>\n",
              "      <td>5</td>\n",
              "    </tr>\n",
              "    <tr>\n",
              "      <th>top</th>\n",
              "      <td>NaN</td>\n",
              "      <td>M</td>\n",
              "      <td>HIGH</td>\n",
              "      <td>HIGH</td>\n",
              "      <td>NaN</td>\n",
              "      <td>DrugY</td>\n",
              "    </tr>\n",
              "    <tr>\n",
              "      <th>freq</th>\n",
              "      <td>NaN</td>\n",
              "      <td>104</td>\n",
              "      <td>77</td>\n",
              "      <td>103</td>\n",
              "      <td>NaN</td>\n",
              "      <td>91</td>\n",
              "    </tr>\n",
              "    <tr>\n",
              "      <th>mean</th>\n",
              "      <td>44.315000</td>\n",
              "      <td>NaN</td>\n",
              "      <td>NaN</td>\n",
              "      <td>NaN</td>\n",
              "      <td>16.084485</td>\n",
              "      <td>NaN</td>\n",
              "    </tr>\n",
              "    <tr>\n",
              "      <th>std</th>\n",
              "      <td>16.544315</td>\n",
              "      <td>NaN</td>\n",
              "      <td>NaN</td>\n",
              "      <td>NaN</td>\n",
              "      <td>7.223956</td>\n",
              "      <td>NaN</td>\n",
              "    </tr>\n",
              "    <tr>\n",
              "      <th>min</th>\n",
              "      <td>15.000000</td>\n",
              "      <td>NaN</td>\n",
              "      <td>NaN</td>\n",
              "      <td>NaN</td>\n",
              "      <td>6.269000</td>\n",
              "      <td>NaN</td>\n",
              "    </tr>\n",
              "    <tr>\n",
              "      <th>25%</th>\n",
              "      <td>31.000000</td>\n",
              "      <td>NaN</td>\n",
              "      <td>NaN</td>\n",
              "      <td>NaN</td>\n",
              "      <td>10.445500</td>\n",
              "      <td>NaN</td>\n",
              "    </tr>\n",
              "    <tr>\n",
              "      <th>50%</th>\n",
              "      <td>45.000000</td>\n",
              "      <td>NaN</td>\n",
              "      <td>NaN</td>\n",
              "      <td>NaN</td>\n",
              "      <td>13.936500</td>\n",
              "      <td>NaN</td>\n",
              "    </tr>\n",
              "    <tr>\n",
              "      <th>75%</th>\n",
              "      <td>58.000000</td>\n",
              "      <td>NaN</td>\n",
              "      <td>NaN</td>\n",
              "      <td>NaN</td>\n",
              "      <td>19.380000</td>\n",
              "      <td>NaN</td>\n",
              "    </tr>\n",
              "    <tr>\n",
              "      <th>max</th>\n",
              "      <td>74.000000</td>\n",
              "      <td>NaN</td>\n",
              "      <td>NaN</td>\n",
              "      <td>NaN</td>\n",
              "      <td>38.247000</td>\n",
              "      <td>NaN</td>\n",
              "    </tr>\n",
              "  </tbody>\n",
              "</table>\n",
              "</div>\n",
              "      <button class=\"colab-df-convert\" onclick=\"convertToInteractive('df-1f8b6ef9-1c77-41a0-a629-2e8623c3212c')\"\n",
              "              title=\"Convert this dataframe to an interactive table.\"\n",
              "              style=\"display:none;\">\n",
              "        \n",
              "  <svg xmlns=\"http://www.w3.org/2000/svg\" height=\"24px\"viewBox=\"0 0 24 24\"\n",
              "       width=\"24px\">\n",
              "    <path d=\"M0 0h24v24H0V0z\" fill=\"none\"/>\n",
              "    <path d=\"M18.56 5.44l.94 2.06.94-2.06 2.06-.94-2.06-.94-.94-2.06-.94 2.06-2.06.94zm-11 1L8.5 8.5l.94-2.06 2.06-.94-2.06-.94L8.5 2.5l-.94 2.06-2.06.94zm10 10l.94 2.06.94-2.06 2.06-.94-2.06-.94-.94-2.06-.94 2.06-2.06.94z\"/><path d=\"M17.41 7.96l-1.37-1.37c-.4-.4-.92-.59-1.43-.59-.52 0-1.04.2-1.43.59L10.3 9.45l-7.72 7.72c-.78.78-.78 2.05 0 2.83L4 21.41c.39.39.9.59 1.41.59.51 0 1.02-.2 1.41-.59l7.78-7.78 2.81-2.81c.8-.78.8-2.07 0-2.86zM5.41 20L4 18.59l7.72-7.72 1.47 1.35L5.41 20z\"/>\n",
              "  </svg>\n",
              "      </button>\n",
              "      \n",
              "  <style>\n",
              "    .colab-df-container {\n",
              "      display:flex;\n",
              "      flex-wrap:wrap;\n",
              "      gap: 12px;\n",
              "    }\n",
              "\n",
              "    .colab-df-convert {\n",
              "      background-color: #E8F0FE;\n",
              "      border: none;\n",
              "      border-radius: 50%;\n",
              "      cursor: pointer;\n",
              "      display: none;\n",
              "      fill: #1967D2;\n",
              "      height: 32px;\n",
              "      padding: 0 0 0 0;\n",
              "      width: 32px;\n",
              "    }\n",
              "\n",
              "    .colab-df-convert:hover {\n",
              "      background-color: #E2EBFA;\n",
              "      box-shadow: 0px 1px 2px rgba(60, 64, 67, 0.3), 0px 1px 3px 1px rgba(60, 64, 67, 0.15);\n",
              "      fill: #174EA6;\n",
              "    }\n",
              "\n",
              "    [theme=dark] .colab-df-convert {\n",
              "      background-color: #3B4455;\n",
              "      fill: #D2E3FC;\n",
              "    }\n",
              "\n",
              "    [theme=dark] .colab-df-convert:hover {\n",
              "      background-color: #434B5C;\n",
              "      box-shadow: 0px 1px 3px 1px rgba(0, 0, 0, 0.15);\n",
              "      filter: drop-shadow(0px 1px 2px rgba(0, 0, 0, 0.3));\n",
              "      fill: #FFFFFF;\n",
              "    }\n",
              "  </style>\n",
              "\n",
              "      <script>\n",
              "        const buttonEl =\n",
              "          document.querySelector('#df-1f8b6ef9-1c77-41a0-a629-2e8623c3212c button.colab-df-convert');\n",
              "        buttonEl.style.display =\n",
              "          google.colab.kernel.accessAllowed ? 'block' : 'none';\n",
              "\n",
              "        async function convertToInteractive(key) {\n",
              "          const element = document.querySelector('#df-1f8b6ef9-1c77-41a0-a629-2e8623c3212c');\n",
              "          const dataTable =\n",
              "            await google.colab.kernel.invokeFunction('convertToInteractive',\n",
              "                                                     [key], {});\n",
              "          if (!dataTable) return;\n",
              "\n",
              "          const docLinkHtml = 'Like what you see? Visit the ' +\n",
              "            '<a target=\"_blank\" href=https://colab.research.google.com/notebooks/data_table.ipynb>data table notebook</a>'\n",
              "            + ' to learn more about interactive tables.';\n",
              "          element.innerHTML = '';\n",
              "          dataTable['output_type'] = 'display_data';\n",
              "          await google.colab.output.renderOutput(dataTable, element);\n",
              "          const docLink = document.createElement('div');\n",
              "          docLink.innerHTML = docLinkHtml;\n",
              "          element.appendChild(docLink);\n",
              "        }\n",
              "      </script>\n",
              "    </div>\n",
              "  </div>\n",
              "  "
            ]
          },
          "metadata": {},
          "execution_count": 237
        }
      ]
    },
    {
      "cell_type": "code",
      "source": [
        "df.Sex.unique()"
      ],
      "metadata": {
        "colab": {
          "base_uri": "https://localhost:8080/"
        },
        "id": "xQyIBMt1Hbm-",
        "outputId": "18268c57-9bcb-4228-8e7e-9e4ac3d6f3f5"
      },
      "execution_count": null,
      "outputs": [
        {
          "output_type": "execute_result",
          "data": {
            "text/plain": [
              "array(['F', 'M'], dtype=object)"
            ]
          },
          "metadata": {},
          "execution_count": 238
        }
      ]
    },
    {
      "cell_type": "code",
      "source": [
        "df.BP.unique()"
      ],
      "metadata": {
        "colab": {
          "base_uri": "https://localhost:8080/"
        },
        "id": "hspRtUc0Hbz9",
        "outputId": "d104fb7e-b887-4de5-9f2d-3dde11dbb2fa"
      },
      "execution_count": null,
      "outputs": [
        {
          "output_type": "execute_result",
          "data": {
            "text/plain": [
              "array(['HIGH', 'LOW', 'NORMAL'], dtype=object)"
            ]
          },
          "metadata": {},
          "execution_count": 239
        }
      ]
    },
    {
      "cell_type": "code",
      "source": [
        "df.Cholesterol.unique()"
      ],
      "metadata": {
        "colab": {
          "base_uri": "https://localhost:8080/"
        },
        "id": "rmseKFTkHb6e",
        "outputId": "e222ddf0-0ee6-47a9-c82a-1dbd03e536ef"
      },
      "execution_count": null,
      "outputs": [
        {
          "output_type": "execute_result",
          "data": {
            "text/plain": [
              "array(['HIGH', 'NORMAL'], dtype=object)"
            ]
          },
          "metadata": {},
          "execution_count": 240
        }
      ]
    },
    {
      "cell_type": "code",
      "source": [
        "df.Drug.unique()"
      ],
      "metadata": {
        "colab": {
          "base_uri": "https://localhost:8080/"
        },
        "id": "UJ_FvaycHcCj",
        "outputId": "a343fcd8-ec9b-465f-bb5a-9e515144d90f"
      },
      "execution_count": null,
      "outputs": [
        {
          "output_type": "execute_result",
          "data": {
            "text/plain": [
              "array(['DrugY', 'drugC', 'drugX', 'drugA', 'drugB'], dtype=object)"
            ]
          },
          "metadata": {},
          "execution_count": 241
        }
      ]
    },
    {
      "cell_type": "code",
      "source": [
        "df.Drug.value_counts()"
      ],
      "metadata": {
        "colab": {
          "base_uri": "https://localhost:8080/"
        },
        "id": "4u2MWvBNJ6yV",
        "outputId": "82f54797-fe65-408b-fc43-8b74dc0c1746"
      },
      "execution_count": null,
      "outputs": [
        {
          "output_type": "execute_result",
          "data": {
            "text/plain": [
              "DrugY    91\n",
              "drugX    54\n",
              "drugA    23\n",
              "drugC    16\n",
              "drugB    16\n",
              "Name: Drug, dtype: int64"
            ]
          },
          "metadata": {},
          "execution_count": 242
        }
      ]
    },
    {
      "cell_type": "code",
      "source": [
        "df.corr()"
      ],
      "metadata": {
        "colab": {
          "base_uri": "https://localhost:8080/",
          "height": 168
        },
        "id": "GyFZEdDkKCsD",
        "outputId": "a268d5fa-0fa3-4259-b61b-45be252e5f56"
      },
      "execution_count": null,
      "outputs": [
        {
          "output_type": "stream",
          "name": "stderr",
          "text": [
            "<ipython-input-243-2f6f6606aa2c>:1: FutureWarning: The default value of numeric_only in DataFrame.corr is deprecated. In a future version, it will default to False. Select only valid columns or specify the value of numeric_only to silence this warning.\n",
            "  df.corr()\n"
          ]
        },
        {
          "output_type": "execute_result",
          "data": {
            "text/plain": [
              "              Age   Na_to_K\n",
              "Age      1.000000 -0.063119\n",
              "Na_to_K -0.063119  1.000000"
            ],
            "text/html": [
              "\n",
              "  <div id=\"df-5cdc5fde-b803-4972-af4a-fea159a12b2b\">\n",
              "    <div class=\"colab-df-container\">\n",
              "      <div>\n",
              "<style scoped>\n",
              "    .dataframe tbody tr th:only-of-type {\n",
              "        vertical-align: middle;\n",
              "    }\n",
              "\n",
              "    .dataframe tbody tr th {\n",
              "        vertical-align: top;\n",
              "    }\n",
              "\n",
              "    .dataframe thead th {\n",
              "        text-align: right;\n",
              "    }\n",
              "</style>\n",
              "<table border=\"1\" class=\"dataframe\">\n",
              "  <thead>\n",
              "    <tr style=\"text-align: right;\">\n",
              "      <th></th>\n",
              "      <th>Age</th>\n",
              "      <th>Na_to_K</th>\n",
              "    </tr>\n",
              "  </thead>\n",
              "  <tbody>\n",
              "    <tr>\n",
              "      <th>Age</th>\n",
              "      <td>1.000000</td>\n",
              "      <td>-0.063119</td>\n",
              "    </tr>\n",
              "    <tr>\n",
              "      <th>Na_to_K</th>\n",
              "      <td>-0.063119</td>\n",
              "      <td>1.000000</td>\n",
              "    </tr>\n",
              "  </tbody>\n",
              "</table>\n",
              "</div>\n",
              "      <button class=\"colab-df-convert\" onclick=\"convertToInteractive('df-5cdc5fde-b803-4972-af4a-fea159a12b2b')\"\n",
              "              title=\"Convert this dataframe to an interactive table.\"\n",
              "              style=\"display:none;\">\n",
              "        \n",
              "  <svg xmlns=\"http://www.w3.org/2000/svg\" height=\"24px\"viewBox=\"0 0 24 24\"\n",
              "       width=\"24px\">\n",
              "    <path d=\"M0 0h24v24H0V0z\" fill=\"none\"/>\n",
              "    <path d=\"M18.56 5.44l.94 2.06.94-2.06 2.06-.94-2.06-.94-.94-2.06-.94 2.06-2.06.94zm-11 1L8.5 8.5l.94-2.06 2.06-.94-2.06-.94L8.5 2.5l-.94 2.06-2.06.94zm10 10l.94 2.06.94-2.06 2.06-.94-2.06-.94-.94-2.06-.94 2.06-2.06.94z\"/><path d=\"M17.41 7.96l-1.37-1.37c-.4-.4-.92-.59-1.43-.59-.52 0-1.04.2-1.43.59L10.3 9.45l-7.72 7.72c-.78.78-.78 2.05 0 2.83L4 21.41c.39.39.9.59 1.41.59.51 0 1.02-.2 1.41-.59l7.78-7.78 2.81-2.81c.8-.78.8-2.07 0-2.86zM5.41 20L4 18.59l7.72-7.72 1.47 1.35L5.41 20z\"/>\n",
              "  </svg>\n",
              "      </button>\n",
              "      \n",
              "  <style>\n",
              "    .colab-df-container {\n",
              "      display:flex;\n",
              "      flex-wrap:wrap;\n",
              "      gap: 12px;\n",
              "    }\n",
              "\n",
              "    .colab-df-convert {\n",
              "      background-color: #E8F0FE;\n",
              "      border: none;\n",
              "      border-radius: 50%;\n",
              "      cursor: pointer;\n",
              "      display: none;\n",
              "      fill: #1967D2;\n",
              "      height: 32px;\n",
              "      padding: 0 0 0 0;\n",
              "      width: 32px;\n",
              "    }\n",
              "\n",
              "    .colab-df-convert:hover {\n",
              "      background-color: #E2EBFA;\n",
              "      box-shadow: 0px 1px 2px rgba(60, 64, 67, 0.3), 0px 1px 3px 1px rgba(60, 64, 67, 0.15);\n",
              "      fill: #174EA6;\n",
              "    }\n",
              "\n",
              "    [theme=dark] .colab-df-convert {\n",
              "      background-color: #3B4455;\n",
              "      fill: #D2E3FC;\n",
              "    }\n",
              "\n",
              "    [theme=dark] .colab-df-convert:hover {\n",
              "      background-color: #434B5C;\n",
              "      box-shadow: 0px 1px 3px 1px rgba(0, 0, 0, 0.15);\n",
              "      filter: drop-shadow(0px 1px 2px rgba(0, 0, 0, 0.3));\n",
              "      fill: #FFFFFF;\n",
              "    }\n",
              "  </style>\n",
              "\n",
              "      <script>\n",
              "        const buttonEl =\n",
              "          document.querySelector('#df-5cdc5fde-b803-4972-af4a-fea159a12b2b button.colab-df-convert');\n",
              "        buttonEl.style.display =\n",
              "          google.colab.kernel.accessAllowed ? 'block' : 'none';\n",
              "\n",
              "        async function convertToInteractive(key) {\n",
              "          const element = document.querySelector('#df-5cdc5fde-b803-4972-af4a-fea159a12b2b');\n",
              "          const dataTable =\n",
              "            await google.colab.kernel.invokeFunction('convertToInteractive',\n",
              "                                                     [key], {});\n",
              "          if (!dataTable) return;\n",
              "\n",
              "          const docLinkHtml = 'Like what you see? Visit the ' +\n",
              "            '<a target=\"_blank\" href=https://colab.research.google.com/notebooks/data_table.ipynb>data table notebook</a>'\n",
              "            + ' to learn more about interactive tables.';\n",
              "          element.innerHTML = '';\n",
              "          dataTable['output_type'] = 'display_data';\n",
              "          await google.colab.output.renderOutput(dataTable, element);\n",
              "          const docLink = document.createElement('div');\n",
              "          docLink.innerHTML = docLinkHtml;\n",
              "          element.appendChild(docLink);\n",
              "        }\n",
              "      </script>\n",
              "    </div>\n",
              "  </div>\n",
              "  "
            ]
          },
          "metadata": {},
          "execution_count": 243
        }
      ]
    },
    {
      "cell_type": "code",
      "source": [
        "# Visualization\n",
        "sns.pairplot(df)"
      ],
      "metadata": {
        "colab": {
          "base_uri": "https://localhost:8080/",
          "height": 531
        },
        "id": "s6A9jKHZKdyY",
        "outputId": "d07420e5-0904-4cca-b068-baedd1fa01e9"
      },
      "execution_count": null,
      "outputs": [
        {
          "output_type": "execute_result",
          "data": {
            "text/plain": [
              "<seaborn.axisgrid.PairGrid at 0x7efcd34ba860>"
            ]
          },
          "metadata": {},
          "execution_count": 244
        },
        {
          "output_type": "display_data",
          "data": {
            "text/plain": [
              "<Figure size 500x500 with 6 Axes>"
            ],
            "image/png": "[encoded data removed]"
          },
          "metadata": {}
        }
      ]
    },
    {
      "cell_type": "code",
      "source": [
        "sns.heatmap(df.corr(),annot = True)"
      ],
      "metadata": {
        "colab": {
          "base_uri": "https://localhost:8080/",
          "height": 508
        },
        "id": "tzoODg-AKlY1",
        "outputId": "c5c86633-8f54-4e0c-8be0-a6d2f0c6a402"
      },
      "execution_count": null,
      "outputs": [
        {
          "output_type": "stream",
          "name": "stderr",
          "text": [
            "<ipython-input-245-2d3646dd07cf>:1: FutureWarning: The default value of numeric_only in DataFrame.corr is deprecated. In a future version, it will default to False. Select only valid columns or specify the value of numeric_only to silence this warning.\n",
            "  sns.heatmap(df.corr(),annot = True)\n"
          ]
        },
        {
          "output_type": "execute_result",
          "data": {
            "text/plain": [
              "<Axes: >"
            ]
          },
          "metadata": {},
          "execution_count": 245
        },
        {
          "output_type": "display_data",
          "data": {
            "text/plain": [
              "<Figure size 640x480 with 2 Axes>"
            ],
            "image/png": "[encoded data removed]"
          },
          "metadata": {}
        }
      ]
    },
    {
      "cell_type": "code",
      "source": [
        "# Outlier Detection\n",
        "sns.boxplot(df)"
      ],
      "metadata": {
        "colab": {
          "base_uri": "https://localhost:8080/",
          "height": 448
        },
        "id": "2ldZEZjDKscJ",
        "outputId": "6533b769-1053-4d12-e145-356e2c74b816"
      },
      "execution_count": null,
      "outputs": [
        {
          "output_type": "execute_result",
          "data": {
            "text/plain": [
              "<Axes: >"
            ]
          },
          "metadata": {},
          "execution_count": 246
        },
        {
          "output_type": "display_data",
          "data": {
            "text/plain": [
              "<Figure size 640x480 with 1 Axes>"
            ],
            "image/png": "[encoded data removed]"
          },
          "metadata": {}
        }
      ]
    },
    {
      "cell_type": "code",
      "source": [
        "sns.boxplot(df.Na_to_K)"
      ],
      "metadata": {
        "colab": {
          "base_uri": "https://localhost:8080/",
          "height": 448
        },
        "id": "YUTjzfxxK0AY",
        "outputId": "5ba67846-25c6-409e-c141-191cbe859a68"
      },
      "execution_count": null,
      "outputs": [
        {
          "output_type": "execute_result",
          "data": {
            "text/plain": [
              "<Axes: >"
            ]
          },
          "metadata": {},
          "execution_count": 247
        },
        {
          "output_type": "display_data",
          "data": {
            "text/plain": [
              "<Figure size 640x480 with 1 Axes>"
            ],
            "image/png": "[encoded data removed]"
          },
          "metadata": {}
        }
      ]
    },
    {
      "cell_type": "code",
      "source": [
        "## Outlier removal using IQR\n",
        "q1 = df.Na_to_K.quantile(.25)\n",
        "q3 = df.Na_to_K.quantile(.75)\n",
        "q1, q3"
      ],
      "metadata": {
        "colab": {
          "base_uri": "https://localhost:8080/"
        },
        "id": "3KKnY4DUK0DE",
        "outputId": "e5ffb588-e482-451c-97cc-b578378dec77"
      },
      "execution_count": null,
      "outputs": [
        {
          "output_type": "execute_result",
          "data": {
            "text/plain": [
              "(10.4455, 19.38)"
            ]
          },
          "metadata": {},
          "execution_count": 248
        }
      ]
    },
    {
      "cell_type": "code",
      "source": [
        "IQR = q3 - q1\n",
        "IQR"
      ],
      "metadata": {
        "colab": {
          "base_uri": "https://localhost:8080/"
        },
        "id": "795fFkCEK0F8",
        "outputId": "ebbe11ea-0051-462d-c06d-d776a52b97ff"
      },
      "execution_count": null,
      "outputs": [
        {
          "output_type": "execute_result",
          "data": {
            "text/plain": [
              "8.9345"
            ]
          },
          "metadata": {},
          "execution_count": 249
        }
      ]
    },
    {
      "cell_type": "code",
      "source": [
        "upper_limit = q3+1.5*IQR\n",
        "lower_limit = q1-1.5*IQR\n",
        "upper_limit"
      ],
      "metadata": {
        "colab": {
          "base_uri": "https://localhost:8080/"
        },
        "id": "UMZZG34BK0Ik",
        "outputId": "4a6947f8-707e-4512-83c1-fe28306735e8"
      },
      "execution_count": null,
      "outputs": [
        {
          "output_type": "execute_result",
          "data": {
            "text/plain": [
              "32.78175"
            ]
          },
          "metadata": {},
          "execution_count": 250
        }
      ]
    },
    {
      "cell_type": "code",
      "source": [
        "df = df[df.Na_to_K<upper_limit]"
      ],
      "metadata": {
        "id": "0eHZOnIbK0L9"
      },
      "execution_count": null,
      "outputs": []
    },
    {
      "cell_type": "code",
      "source": [
        "sns.boxplot(df.Na_to_K)"
      ],
      "metadata": {
        "colab": {
          "base_uri": "https://localhost:8080/",
          "height": 448
        },
        "id": "qxa9covqK0O1",
        "outputId": "eaa81963-7d1d-4991-be80-27d6d0785faf"
      },
      "execution_count": null,
      "outputs": [
        {
          "output_type": "execute_result",
          "data": {
            "text/plain": [
              "<Axes: >"
            ]
          },
          "metadata": {},
          "execution_count": 252
        },
        {
          "output_type": "display_data",
          "data": {
            "text/plain": [
              "<Figure size 640x480 with 1 Axes>"
            ],
            "image/png": "[encoded data removed]"
          },
          "metadata": {}
        }
      ]
    },
    {
      "cell_type": "code",
      "source": [
        "df.shape"
      ],
      "metadata": {
        "colab": {
          "base_uri": "https://localhost:8080/"
        },
        "id": "_1h7jqPcL8_9",
        "outputId": "3678c841-07c7-4407-cd31-c27ef99eb3fe"
      },
      "execution_count": null,
      "outputs": [
        {
          "output_type": "execute_result",
          "data": {
            "text/plain": [
              "(192, 6)"
            ]
          },
          "metadata": {},
          "execution_count": 253
        }
      ]
    },
    {
      "cell_type": "code",
      "source": [
        "# Splitting the features and target\n",
        "x = df.iloc[:,0:5]\n",
        "x"
      ],
      "metadata": {
        "colab": {
          "base_uri": "https://localhost:8080/",
          "height": 423
        },
        "id": "QoiRTs--4p-O",
        "outputId": "e1b0f00f-2470-4b5b-fee6-026c9ff41e09"
      },
      "execution_count": null,
      "outputs": [
        {
          "output_type": "execute_result",
          "data": {
            "text/plain": [
              "     Age Sex      BP Cholesterol  Na_to_K\n",
              "0     23   F    HIGH        HIGH   25.355\n",
              "1     47   M     LOW        HIGH   13.093\n",
              "2     47   M     LOW        HIGH   10.114\n",
              "3     28   F  NORMAL        HIGH    7.798\n",
              "4     61   F     LOW        HIGH   18.043\n",
              "..   ...  ..     ...         ...      ...\n",
              "195   56   F     LOW        HIGH   11.567\n",
              "196   16   M     LOW        HIGH   12.006\n",
              "197   52   M  NORMAL        HIGH    9.894\n",
              "198   23   M  NORMAL      NORMAL   14.020\n",
              "199   40   F     LOW      NORMAL   11.349\n",
              "\n",
              "[192 rows x 5 columns]"
            ],
            "text/html": [
              "\n",
              "  <div id=\"df-914964a4-81e1-4aae-8d7b-9d0a9742fefa\">\n",
              "    <div class=\"colab-df-container\">\n",
              "      <div>\n",
              "<style scoped>\n",
              "    .dataframe tbody tr th:only-of-type {\n",
              "        vertical-align: middle;\n",
              "    }\n",
              "\n",
              "    .dataframe tbody tr th {\n",
              "        vertical-align: top;\n",
              "    }\n",
              "\n",
              "    .dataframe thead th {\n",
              "        text-align: right;\n",
              "    }\n",
              "</style>\n",
              "<table border=\"1\" class=\"dataframe\">\n",
              "  <thead>\n",
              "    <tr style=\"text-align: right;\">\n",
              "      <th></th>\n",
              "      <th>Age</th>\n",
              "      <th>Sex</th>\n",
              "      <th>BP</th>\n",
              "      <th>Cholesterol</th>\n",
              "      <th>Na_to_K</th>\n",
              "    </tr>\n",
              "  </thead>\n",
              "  <tbody>\n",
              "    <tr>\n",
              "      <th>0</th>\n",
              "      <td>23</td>\n",
              "      <td>F</td>\n",
              "      <td>HIGH</td>\n",
              "      <td>HIGH</td>\n",
              "      <td>25.355</td>\n",
              "    </tr>\n",
              "    <tr>\n",
              "      <th>1</th>\n",
              "      <td>47</td>\n",
              "      <td>M</td>\n",
              "      <td>LOW</td>\n",
              "      <td>HIGH</td>\n",
              "      <td>13.093</td>\n",
              "    </tr>\n",
              "    <tr>\n",
              "      <th>2</th>\n",
              "      <td>47</td>\n",
              "      <td>M</td>\n",
              "      <td>LOW</td>\n",
              "      <td>HIGH</td>\n",
              "      <td>10.114</td>\n",
              "    </tr>\n",
              "    <tr>\n",
              "      <th>3</th>\n",
              "      <td>28</td>\n",
              "      <td>F</td>\n",
              "      <td>NORMAL</td>\n",
              "      <td>HIGH</td>\n",
              "      <td>7.798</td>\n",
              "    </tr>\n",
              "    <tr>\n",
              "      <th>4</th>\n",
              "      <td>61</td>\n",
              "      <td>F</td>\n",
              "      <td>LOW</td>\n",
              "      <td>HIGH</td>\n",
              "      <td>18.043</td>\n",
              "    </tr>\n",
              "    <tr>\n",
              "      <th>...</th>\n",
              "      <td>...</td>\n",
              "      <td>...</td>\n",
              "      <td>...</td>\n",
              "      <td>...</td>\n",
              "      <td>...</td>\n",
              "    </tr>\n",
              "    <tr>\n",
              "      <th>195</th>\n",
              "      <td>56</td>\n",
              "      <td>F</td>\n",
              "      <td>LOW</td>\n",
              "      <td>HIGH</td>\n",
              "      <td>11.567</td>\n",
              "    </tr>\n",
              "    <tr>\n",
              "      <th>196</th>\n",
              "      <td>16</td>\n",
              "      <td>M</td>\n",
              "      <td>LOW</td>\n",
              "      <td>HIGH</td>\n",
              "      <td>12.006</td>\n",
              "    </tr>\n",
              "    <tr>\n",
              "      <th>197</th>\n",
              "      <td>52</td>\n",
              "      <td>M</td>\n",
              "      <td>NORMAL</td>\n",
              "      <td>HIGH</td>\n",
              "      <td>9.894</td>\n",
              "    </tr>\n",
              "    <tr>\n",
              "      <th>198</th>\n",
              "      <td>23</td>\n",
              "      <td>M</td>\n",
              "      <td>NORMAL</td>\n",
              "      <td>NORMAL</td>\n",
              "      <td>14.020</td>\n",
              "    </tr>\n",
              "    <tr>\n",
              "      <th>199</th>\n",
              "      <td>40</td>\n",
              "      <td>F</td>\n",
              "      <td>LOW</td>\n",
              "      <td>NORMAL</td>\n",
              "      <td>11.349</td>\n",
              "    </tr>\n",
              "  </tbody>\n",
              "</table>\n",
              "<p>192 rows × 5 columns</p>\n",
              "</div>\n",
              "      <button class=\"colab-df-convert\" onclick=\"convertToInteractive('df-914964a4-81e1-4aae-8d7b-9d0a9742fefa')\"\n",
              "              title=\"Convert this dataframe to an interactive table.\"\n",
              "              style=\"display:none;\">\n",
              "        \n",
              "  <svg xmlns=\"http://www.w3.org/2000/svg\" height=\"24px\"viewBox=\"0 0 24 24\"\n",
              "       width=\"24px\">\n",
              "    <path d=\"M0 0h24v24H0V0z\" fill=\"none\"/>\n",
              "    <path d=\"M18.56 5.44l.94 2.06.94-2.06 2.06-.94-2.06-.94-.94-2.06-.94 2.06-2.06.94zm-11 1L8.5 8.5l.94-2.06 2.06-.94-2.06-.94L8.5 2.5l-.94 2.06-2.06.94zm10 10l.94 2.06.94-2.06 2.06-.94-2.06-.94-.94-2.06-.94 2.06-2.06.94z\"/><path d=\"M17.41 7.96l-1.37-1.37c-.4-.4-.92-.59-1.43-.59-.52 0-1.04.2-1.43.59L10.3 9.45l-7.72 7.72c-.78.78-.78 2.05 0 2.83L4 21.41c.39.39.9.59 1.41.59.51 0 1.02-.2 1.41-.59l7.78-7.78 2.81-2.81c.8-.78.8-2.07 0-2.86zM5.41 20L4 18.59l7.72-7.72 1.47 1.35L5.41 20z\"/>\n",
              "  </svg>\n",
              "      </button>\n",
              "      \n",
              "  <style>\n",
              "    .colab-df-container {\n",
              "      display:flex;\n",
              "      flex-wrap:wrap;\n",
              "      gap: 12px;\n",
              "    }\n",
              "\n",
              "    .colab-df-convert {\n",
              "      background-color: #E8F0FE;\n",
              "      border: none;\n",
              "      border-radius: 50%;\n",
              "      cursor: pointer;\n",
              "      display: none;\n",
              "      fill: #1967D2;\n",
              "      height: 32px;\n",
              "      padding: 0 0 0 0;\n",
              "      width: 32px;\n",
              "    }\n",
              "\n",
              "    .colab-df-convert:hover {\n",
              "      background-color: #E2EBFA;\n",
              "      box-shadow: 0px 1px 2px rgba(60, 64, 67, 0.3), 0px 1px 3px 1px rgba(60, 64, 67, 0.15);\n",
              "      fill: #174EA6;\n",
              "    }\n",
              "\n",
              "    [theme=dark] .colab-df-convert {\n",
              "      background-color: #3B4455;\n",
              "      fill: #D2E3FC;\n",
              "    }\n",
              "\n",
              "    [theme=dark] .colab-df-convert:hover {\n",
              "      background-color: #434B5C;\n",
              "      box-shadow: 0px 1px 3px 1px rgba(0, 0, 0, 0.15);\n",
              "      filter: drop-shadow(0px 1px 2px rgba(0, 0, 0, 0.3));\n",
              "      fill: #FFFFFF;\n",
              "    }\n",
              "  </style>\n",
              "\n",
              "      <script>\n",
              "        const buttonEl =\n",
              "          document.querySelector('#df-914964a4-81e1-4aae-8d7b-9d0a9742fefa button.colab-df-convert');\n",
              "        buttonEl.style.display =\n",
              "          google.colab.kernel.accessAllowed ? 'block' : 'none';\n",
              "\n",
              "        async function convertToInteractive(key) {\n",
              "          const element = document.querySelector('#df-914964a4-81e1-4aae-8d7b-9d0a9742fefa');\n",
              "          const dataTable =\n",
              "            await google.colab.kernel.invokeFunction('convertToInteractive',\n",
              "                                                     [key], {});\n",
              "          if (!dataTable) return;\n",
              "\n",
              "          const docLinkHtml = 'Like what you see? Visit the ' +\n",
              "            '<a target=\"_blank\" href=https://colab.research.google.com/notebooks/data_table.ipynb>data table notebook</a>'\n",
              "            + ' to learn more about interactive tables.';\n",
              "          element.innerHTML = '';\n",
              "          dataTable['output_type'] = 'display_data';\n",
              "          await google.colab.output.renderOutput(dataTable, element);\n",
              "          const docLink = document.createElement('div');\n",
              "          docLink.innerHTML = docLinkHtml;\n",
              "          element.appendChild(docLink);\n",
              "        }\n",
              "      </script>\n",
              "    </div>\n",
              "  </div>\n",
              "  "
            ]
          },
          "metadata": {},
          "execution_count": 254
        }
      ]
    },
    {
      "cell_type": "code",
      "source": [
        "y = df.iloc[:,5:]\n",
        "y"
      ],
      "metadata": {
        "colab": {
          "base_uri": "https://localhost:8080/",
          "height": 423
        },
        "id": "qYnWkl1o46p7",
        "outputId": "57c9d035-4345-48f7-e0de-3eb09b8bcf2e"
      },
      "execution_count": null,
      "outputs": [
        {
          "output_type": "execute_result",
          "data": {
            "text/plain": [
              "      Drug\n",
              "0    DrugY\n",
              "1    drugC\n",
              "2    drugC\n",
              "3    drugX\n",
              "4    DrugY\n",
              "..     ...\n",
              "195  drugC\n",
              "196  drugC\n",
              "197  drugX\n",
              "198  drugX\n",
              "199  drugX\n",
              "\n",
              "[192 rows x 1 columns]"
            ],
            "text/html": [
              "\n",
              "  <div id=\"df-afbcf1ce-50a1-49a3-8bd9-13ebee0f6273\">\n",
              "    <div class=\"colab-df-container\">\n",
              "      <div>\n",
              "<style scoped>\n",
              "    .dataframe tbody tr th:only-of-type {\n",
              "        vertical-align: middle;\n",
              "    }\n",
              "\n",
              "    .dataframe tbody tr th {\n",
              "        vertical-align: top;\n",
              "    }\n",
              "\n",
              "    .dataframe thead th {\n",
              "        text-align: right;\n",
              "    }\n",
              "</style>\n",
              "<table border=\"1\" class=\"dataframe\">\n",
              "  <thead>\n",
              "    <tr style=\"text-align: right;\">\n",
              "      <th></th>\n",
              "      <th>Drug</th>\n",
              "    </tr>\n",
              "  </thead>\n",
              "  <tbody>\n",
              "    <tr>\n",
              "      <th>0</th>\n",
              "      <td>DrugY</td>\n",
              "    </tr>\n",
              "    <tr>\n",
              "      <th>1</th>\n",
              "      <td>drugC</td>\n",
              "    </tr>\n",
              "    <tr>\n",
              "      <th>2</th>\n",
              "      <td>drugC</td>\n",
              "    </tr>\n",
              "    <tr>\n",
              "      <th>3</th>\n",
              "      <td>drugX</td>\n",
              "    </tr>\n",
              "    <tr>\n",
              "      <th>4</th>\n",
              "      <td>DrugY</td>\n",
              "    </tr>\n",
              "    <tr>\n",
              "      <th>...</th>\n",
              "      <td>...</td>\n",
              "    </tr>\n",
              "    <tr>\n",
              "      <th>195</th>\n",
              "      <td>drugC</td>\n",
              "    </tr>\n",
              "    <tr>\n",
              "      <th>196</th>\n",
              "      <td>drugC</td>\n",
              "    </tr>\n",
              "    <tr>\n",
              "      <th>197</th>\n",
              "      <td>drugX</td>\n",
              "    </tr>\n",
              "    <tr>\n",
              "      <th>198</th>\n",
              "      <td>drugX</td>\n",
              "    </tr>\n",
              "    <tr>\n",
              "      <th>199</th>\n",
              "      <td>drugX</td>\n",
              "    </tr>\n",
              "  </tbody>\n",
              "</table>\n",
              "<p>192 rows × 1 columns</p>\n",
              "</div>\n",
              "      <button class=\"colab-df-convert\" onclick=\"convertToInteractive('df-afbcf1ce-50a1-49a3-8bd9-13ebee0f6273')\"\n",
              "              title=\"Convert this dataframe to an interactive table.\"\n",
              "              style=\"display:none;\">\n",
              "        \n",
              "  <svg xmlns=\"http://www.w3.org/2000/svg\" height=\"24px\"viewBox=\"0 0 24 24\"\n",
              "       width=\"24px\">\n",
              "    <path d=\"M0 0h24v24H0V0z\" fill=\"none\"/>\n",
              "    <path d=\"M18.56 5.44l.94 2.06.94-2.06 2.06-.94-2.06-.94-.94-2.06-.94 2.06-2.06.94zm-11 1L8.5 8.5l.94-2.06 2.06-.94-2.06-.94L8.5 2.5l-.94 2.06-2.06.94zm10 10l.94 2.06.94-2.06 2.06-.94-2.06-.94-.94-2.06-.94 2.06-2.06.94z\"/><path d=\"M17.41 7.96l-1.37-1.37c-.4-.4-.92-.59-1.43-.59-.52 0-1.04.2-1.43.59L10.3 9.45l-7.72 7.72c-.78.78-.78 2.05 0 2.83L4 21.41c.39.39.9.59 1.41.59.51 0 1.02-.2 1.41-.59l7.78-7.78 2.81-2.81c.8-.78.8-2.07 0-2.86zM5.41 20L4 18.59l7.72-7.72 1.47 1.35L5.41 20z\"/>\n",
              "  </svg>\n",
              "      </button>\n",
              "      \n",
              "  <style>\n",
              "    .colab-df-container {\n",
              "      display:flex;\n",
              "      flex-wrap:wrap;\n",
              "      gap: 12px;\n",
              "    }\n",
              "\n",
              "    .colab-df-convert {\n",
              "      background-color: #E8F0FE;\n",
              "      border: none;\n",
              "      border-radius: 50%;\n",
              "      cursor: pointer;\n",
              "      display: none;\n",
              "      fill: #1967D2;\n",
              "      height: 32px;\n",
              "      padding: 0 0 0 0;\n",
              "      width: 32px;\n",
              "    }\n",
              "\n",
              "    .colab-df-convert:hover {\n",
              "      background-color: #E2EBFA;\n",
              "      box-shadow: 0px 1px 2px rgba(60, 64, 67, 0.3), 0px 1px 3px 1px rgba(60, 64, 67, 0.15);\n",
              "      fill: #174EA6;\n",
              "    }\n",
              "\n",
              "    [theme=dark] .colab-df-convert {\n",
              "      background-color: #3B4455;\n",
              "      fill: #D2E3FC;\n",
              "    }\n",
              "\n",
              "    [theme=dark] .colab-df-convert:hover {\n",
              "      background-color: #434B5C;\n",
              "      box-shadow: 0px 1px 3px 1px rgba(0, 0, 0, 0.15);\n",
              "      filter: drop-shadow(0px 1px 2px rgba(0, 0, 0, 0.3));\n",
              "      fill: #FFFFFF;\n",
              "    }\n",
              "  </style>\n",
              "\n",
              "      <script>\n",
              "        const buttonEl =\n",
              "          document.querySelector('#df-afbcf1ce-50a1-49a3-8bd9-13ebee0f6273 button.colab-df-convert');\n",
              "        buttonEl.style.display =\n",
              "          google.colab.kernel.accessAllowed ? 'block' : 'none';\n",
              "\n",
              "        async function convertToInteractive(key) {\n",
              "          const element = document.querySelector('#df-afbcf1ce-50a1-49a3-8bd9-13ebee0f6273');\n",
              "          const dataTable =\n",
              "            await google.colab.kernel.invokeFunction('convertToInteractive',\n",
              "                                                     [key], {});\n",
              "          if (!dataTable) return;\n",
              "\n",
              "          const docLinkHtml = 'Like what you see? Visit the ' +\n",
              "            '<a target=\"_blank\" href=https://colab.research.google.com/notebooks/data_table.ipynb>data table notebook</a>'\n",
              "            + ' to learn more about interactive tables.';\n",
              "          element.innerHTML = '';\n",
              "          dataTable['output_type'] = 'display_data';\n",
              "          await google.colab.output.renderOutput(dataTable, element);\n",
              "          const docLink = document.createElement('div');\n",
              "          docLink.innerHTML = docLinkHtml;\n",
              "          element.appendChild(docLink);\n",
              "        }\n",
              "      </script>\n",
              "    </div>\n",
              "  </div>\n",
              "  "
            ]
          },
          "metadata": {},
          "execution_count": 255
        }
      ]
    },
    {
      "cell_type": "code",
      "source": [
        "# Split the dataset into training and testing sets\n",
        "xtrain, xtest, ytrain, ytest = train_test_split(x,y,test_size=0.2,random_state=42)"
      ],
      "metadata": {
        "id": "JiDM79FUDCVC"
      },
      "execution_count": null,
      "outputs": []
    },
    {
      "cell_type": "code",
      "source": [
        "xtrain.shape, xtest.shape, ytrain.shape, ytest.shape"
      ],
      "metadata": {
        "colab": {
          "base_uri": "https://localhost:8080/"
        },
        "id": "ZltTX-HsDpZF",
        "outputId": "7f28e6b4-7a64-46e1-d107-b0564089df65"
      },
      "execution_count": null,
      "outputs": [
        {
          "output_type": "execute_result",
          "data": {
            "text/plain": [
              "((153, 5), (39, 5), (153, 1), (39, 1))"
            ]
          },
          "metadata": {},
          "execution_count": 257
        }
      ]
    },
    {
      "cell_type": "code",
      "source": [
        "CategoricalFeatures = xtrain.select_dtypes(exclude = 'number')\n",
        "CategoricalFeatures = CategoricalFeatures.columns\n",
        "CategoricalFeatures"
      ],
      "metadata": {
        "colab": {
          "base_uri": "https://localhost:8080/"
        },
        "id": "12Uf3ZxDE3b0",
        "outputId": "7186ecde-e132-41e9-8fac-5f3cc48cdc85"
      },
      "execution_count": null,
      "outputs": [
        {
          "output_type": "execute_result",
          "data": {
            "text/plain": [
              "Index(['Sex', 'BP', 'Cholesterol'], dtype='object')"
            ]
          },
          "metadata": {},
          "execution_count": 258
        }
      ]
    },
    {
      "cell_type": "code",
      "source": [
        "# Encode the Categorical variable\n",
        "le = LabelEncoder()\n",
        "for feature in CategoricalFeatures:\n",
        "  xtrain[feature] = le.fit_transform(xtrain[feature])\n",
        "  xtest[feature] = le.transform(xtest[feature])\n",
        "ytrain = le.fit_transform(ytrain)\n",
        "ytest = le.transform(ytest)"
      ],
      "metadata": {
        "id": "LmjQrvoHHiXa",
        "colab": {
          "base_uri": "https://localhost:8080/"
        },
        "outputId": "b5ce6d8d-c76a-4103-9dbf-fc668d273e4d"
      },
      "execution_count": null,
      "outputs": [
        {
          "output_type": "stream",
          "name": "stderr",
          "text": [
            "/usr/local/lib/python3.10/dist-packages/sklearn/preprocessing/_label.py:116: DataConversionWarning: A column-vector y was passed when a 1d array was expected. Please change the shape of y to (n_samples, ), for example using ravel().\n",
            "  y = column_or_1d(y, warn=True)\n",
            "/usr/local/lib/python3.10/dist-packages/sklearn/preprocessing/_label.py:134: DataConversionWarning: A column-vector y was passed when a 1d array was expected. Please change the shape of y to (n_samples, ), for example using ravel().\n",
            "  y = column_or_1d(y, dtype=self.classes_.dtype, warn=True)\n"
          ]
        }
      ]
    },
    {
      "cell_type": "code",
      "source": [
        "xtrain.head(), xtest.head()"
      ],
      "metadata": {
        "colab": {
          "base_uri": "https://localhost:8080/"
        },
        "id": "56xhq6J0OYkr",
        "outputId": "fd45b121-de20-4fdf-b8cb-a2695c9e76b0"
      },
      "execution_count": null,
      "outputs": [
        {
          "output_type": "execute_result",
          "data": {
            "text/plain": [
              "(     Age  Sex  BP  Cholesterol  Na_to_K\n",
              " 83    38    0   0            1   11.326\n",
              " 112   35    1   1            1    9.170\n",
              " 167   57    0   2            0   14.216\n",
              " 36    32    1   0            1    9.445\n",
              " 140   49    1   0            1    6.269,\n",
              "      Age  Sex  BP  Cholesterol  Na_to_K\n",
              " 46    37    0   0            0   13.091\n",
              " 141   64    0   1            1   25.741\n",
              " 77    26    0   0            1   19.161\n",
              " 148   61    0   1            1    7.340\n",
              " 116   67    1   2            1    9.514)"
            ]
          },
          "metadata": {},
          "execution_count": 260
        }
      ]
    },
    {
      "cell_type": "code",
      "source": [
        "ytrain"
      ],
      "metadata": {
        "colab": {
          "base_uri": "https://localhost:8080/"
        },
        "id": "Utjb_GkAObuL",
        "outputId": "657e8bab-fa00-4451-861b-a1387d6e4cc3"
      },
      "execution_count": null,
      "outputs": [
        {
          "output_type": "execute_result",
          "data": {
            "text/plain": [
              "array([1, 4, 4, 1, 1, 4, 0, 0, 2, 1, 0, 4, 2, 0, 0, 0, 4, 4, 4, 0, 0, 0,\n",
              "       4, 1, 1, 4, 0, 4, 0, 3, 3, 4, 0, 0, 4, 2, 0, 0, 0, 4, 0, 0, 0, 0,\n",
              "       0, 0, 0, 0, 4, 0, 0, 2, 3, 4, 0, 1, 0, 0, 2, 0, 3, 0, 4, 0, 0, 2,\n",
              "       4, 0, 0, 0, 3, 4, 3, 4, 2, 2, 0, 4, 0, 1, 3, 0, 0, 4, 4, 4, 0, 0,\n",
              "       4, 4, 1, 4, 2, 2, 0, 3, 0, 0, 4, 4, 3, 4, 0, 3, 1, 0, 0, 0, 0, 0,\n",
              "       1, 2, 1, 0, 0, 4, 0, 4, 2, 3, 1, 4, 3, 0, 0, 0, 0, 4, 0, 0, 0, 4,\n",
              "       4, 1, 3, 0, 0, 4, 1, 4, 3, 0, 0, 0, 2, 4, 0, 4, 0, 4, 0, 0, 4])"
            ]
          },
          "metadata": {},
          "execution_count": 261
        }
      ]
    },
    {
      "cell_type": "code",
      "source": [
        "df['Drug'].unique()"
      ],
      "metadata": {
        "colab": {
          "base_uri": "https://localhost:8080/"
        },
        "id": "j5IZVZ60Pfsz",
        "outputId": "86abc9aa-158c-486c-d42a-f3361da76273"
      },
      "execution_count": null,
      "outputs": [
        {
          "output_type": "execute_result",
          "data": {
            "text/plain": [
              "array(['DrugY', 'drugC', 'drugX', 'drugA', 'drugB'], dtype=object)"
            ]
          },
          "metadata": {},
          "execution_count": 262
        }
      ]
    },
    {
      "cell_type": "markdown",
      "source": [
        "Task2: Build the ANN model with (input layer, min 3 hidden layers & output layer)"
      ],
      "metadata": {
        "id": "wBNA6yDQBG4o"
      }
    },
    {
      "cell_type": "code",
      "source": [
        "# Building the ANN Model\n",
        "model = Sequential()\n",
        "model.add(Dense(5,activation='relu'))\n",
        "model.add(Dense(16,activation='relu'))\n",
        "model.add(Dense(64,activation='relu'))\n",
        "model.add(Dense(32,activation='relu'))\n",
        "model.add(Dense(5,activation='softmax'))"
      ],
      "metadata": {
        "id": "bBapUykuQjwq"
      },
      "execution_count": null,
      "outputs": []
    },
    {
      "cell_type": "code",
      "source": [
        "model.compile(optimizer='adam',loss='sparse_categorical_crossentropy',metrics=['accuracy'])"
      ],
      "metadata": {
        "id": "IHdRZOuzRGnF"
      },
      "execution_count": null,
      "outputs": []
    },
    {
      "cell_type": "code",
      "source": [
        "# Training the model\n",
        "model.fit(xtrain,ytrain,epochs=60,batch_size=5,validation_data=(xtest,ytest))"
      ],
      "metadata": {
        "colab": {
          "base_uri": "https://localhost:8080/"
        },
        "id": "f5zws6EKRJHu",
        "outputId": "7f6eae5e-9c4f-4729-e753-a0bc386495b2"
      },
      "execution_count": null,
      "outputs": [
        {
          "output_type": "stream",
          "name": "stdout",
          "text": [
            "Epoch 1/60\n",
            "31/31 [==============================] - 1s 10ms/step - loss: 3.2466 - accuracy: 0.4510 - val_loss: 1.6784 - val_accuracy: 0.3333\n",
            "Epoch 2/60\n",
            "31/31 [==============================] - 0s 4ms/step - loss: 1.2176 - accuracy: 0.5556 - val_loss: 1.2649 - val_accuracy: 0.4359\n",
            "Epoch 3/60\n",
            "31/31 [==============================] - 0s 3ms/step - loss: 1.0950 - accuracy: 0.5490 - val_loss: 1.1831 - val_accuracy: 0.4615\n",
            "Epoch 4/60\n",
            "31/31 [==============================] - 0s 4ms/step - loss: 1.0548 - accuracy: 0.6275 - val_loss: 1.2170 - val_accuracy: 0.4615\n",
            "Epoch 5/60\n",
            "31/31 [==============================] - 0s 4ms/step - loss: 1.1111 - accuracy: 0.5490 - val_loss: 1.2426 - val_accuracy: 0.4103\n",
            "Epoch 6/60\n",
            "31/31 [==============================] - 0s 3ms/step - loss: 1.0158 - accuracy: 0.6078 - val_loss: 1.1036 - val_accuracy: 0.4359\n",
            "Epoch 7/60\n",
            "31/31 [==============================] - 0s 4ms/step - loss: 1.0009 - accuracy: 0.6275 - val_loss: 1.1343 - val_accuracy: 0.5385\n",
            "Epoch 8/60\n",
            "31/31 [==============================] - 0s 4ms/step - loss: 0.9661 - accuracy: 0.6144 - val_loss: 1.1042 - val_accuracy: 0.5385\n",
            "Epoch 9/60\n",
            "31/31 [==============================] - 0s 3ms/step - loss: 0.9631 - accuracy: 0.5817 - val_loss: 1.1096 - val_accuracy: 0.4872\n",
            "Epoch 10/60\n",
            "31/31 [==============================] - 0s 5ms/step - loss: 0.9745 - accuracy: 0.6340 - val_loss: 1.0823 - val_accuracy: 0.5641\n",
            "Epoch 11/60\n",
            "31/31 [==============================] - 0s 4ms/step - loss: 0.9159 - accuracy: 0.6536 - val_loss: 1.0566 - val_accuracy: 0.4615\n",
            "Epoch 12/60\n",
            "31/31 [==============================] - 0s 3ms/step - loss: 0.8908 - accuracy: 0.6340 - val_loss: 0.9641 - val_accuracy: 0.5897\n",
            "Epoch 13/60\n",
            "31/31 [==============================] - 0s 4ms/step - loss: 0.8884 - accuracy: 0.6797 - val_loss: 0.9664 - val_accuracy: 0.5641\n",
            "Epoch 14/60\n",
            "31/31 [==============================] - 0s 3ms/step - loss: 0.9073 - accuracy: 0.6471 - val_loss: 0.9420 - val_accuracy: 0.5641\n",
            "Epoch 15/60\n",
            "31/31 [==============================] - 0s 4ms/step - loss: 0.8424 - accuracy: 0.6863 - val_loss: 0.8856 - val_accuracy: 0.6410\n",
            "Epoch 16/60\n",
            "31/31 [==============================] - 0s 4ms/step - loss: 0.7899 - accuracy: 0.7124 - val_loss: 0.8051 - val_accuracy: 0.6667\n",
            "Epoch 17/60\n",
            "31/31 [==============================] - 0s 3ms/step - loss: 0.7774 - accuracy: 0.7320 - val_loss: 0.7858 - val_accuracy: 0.7179\n",
            "Epoch 18/60\n",
            "31/31 [==============================] - 0s 3ms/step - loss: 0.7514 - accuracy: 0.7255 - val_loss: 0.7553 - val_accuracy: 0.7179\n",
            "Epoch 19/60\n",
            "31/31 [==============================] - 0s 3ms/step - loss: 0.6882 - accuracy: 0.7516 - val_loss: 0.7421 - val_accuracy: 0.6667\n",
            "Epoch 20/60\n",
            "31/31 [==============================] - 0s 3ms/step - loss: 0.6586 - accuracy: 0.7386 - val_loss: 0.7495 - val_accuracy: 0.6410\n",
            "Epoch 21/60\n",
            "31/31 [==============================] - 0s 3ms/step - loss: 0.6734 - accuracy: 0.7320 - val_loss: 0.7323 - val_accuracy: 0.6923\n",
            "Epoch 22/60\n",
            "31/31 [==============================] - 0s 3ms/step - loss: 0.6202 - accuracy: 0.7712 - val_loss: 0.6121 - val_accuracy: 0.7436\n",
            "Epoch 23/60\n",
            "31/31 [==============================] - 0s 3ms/step - loss: 0.5976 - accuracy: 0.7647 - val_loss: 0.7987 - val_accuracy: 0.6154\n",
            "Epoch 24/60\n",
            "31/31 [==============================] - 0s 4ms/step - loss: 0.6440 - accuracy: 0.7320 - val_loss: 0.6388 - val_accuracy: 0.7436\n",
            "Epoch 25/60\n",
            "31/31 [==============================] - 0s 4ms/step - loss: 0.6023 - accuracy: 0.7516 - val_loss: 0.5895 - val_accuracy: 0.7436\n",
            "Epoch 26/60\n",
            "31/31 [==============================] - 0s 3ms/step - loss: 0.5663 - accuracy: 0.7778 - val_loss: 0.6281 - val_accuracy: 0.6923\n",
            "Epoch 27/60\n",
            "31/31 [==============================] - 0s 4ms/step - loss: 0.5761 - accuracy: 0.7778 - val_loss: 0.5584 - val_accuracy: 0.7436\n",
            "Epoch 28/60\n",
            "31/31 [==============================] - 0s 3ms/step - loss: 0.5310 - accuracy: 0.7908 - val_loss: 0.6158 - val_accuracy: 0.7179\n",
            "Epoch 29/60\n",
            "31/31 [==============================] - 0s 4ms/step - loss: 0.5228 - accuracy: 0.8039 - val_loss: 0.5593 - val_accuracy: 0.7436\n",
            "Epoch 30/60\n",
            "31/31 [==============================] - 0s 5ms/step - loss: 0.5680 - accuracy: 0.7451 - val_loss: 0.5254 - val_accuracy: 0.7949\n",
            "Epoch 31/60\n",
            "31/31 [==============================] - 0s 5ms/step - loss: 0.5374 - accuracy: 0.7778 - val_loss: 0.5266 - val_accuracy: 0.8205\n",
            "Epoch 32/60\n",
            "31/31 [==============================] - 0s 5ms/step - loss: 0.5298 - accuracy: 0.7908 - val_loss: 0.5663 - val_accuracy: 0.7692\n",
            "Epoch 33/60\n",
            "31/31 [==============================] - 0s 5ms/step - loss: 0.5759 - accuracy: 0.7582 - val_loss: 0.6942 - val_accuracy: 0.6410\n",
            "Epoch 34/60\n",
            "31/31 [==============================] - 0s 5ms/step - loss: 0.5440 - accuracy: 0.7516 - val_loss: 0.5112 - val_accuracy: 0.8205\n",
            "Epoch 35/60\n",
            "31/31 [==============================] - 0s 5ms/step - loss: 0.5080 - accuracy: 0.8105 - val_loss: 0.4825 - val_accuracy: 0.7692\n",
            "Epoch 36/60\n",
            "31/31 [==============================] - 0s 5ms/step - loss: 0.5505 - accuracy: 0.7778 - val_loss: 0.4820 - val_accuracy: 0.7949\n",
            "Epoch 37/60\n",
            "31/31 [==============================] - 0s 5ms/step - loss: 0.4963 - accuracy: 0.7843 - val_loss: 0.4809 - val_accuracy: 0.7949\n",
            "Epoch 38/60\n",
            "31/31 [==============================] - 0s 5ms/step - loss: 0.4613 - accuracy: 0.8039 - val_loss: 0.4801 - val_accuracy: 0.7692\n",
            "Epoch 39/60\n",
            "31/31 [==============================] - 0s 5ms/step - loss: 0.4579 - accuracy: 0.7843 - val_loss: 0.4973 - val_accuracy: 0.8462\n",
            "Epoch 40/60\n",
            "31/31 [==============================] - 0s 5ms/step - loss: 0.4965 - accuracy: 0.7974 - val_loss: 0.5079 - val_accuracy: 0.7949\n",
            "Epoch 41/60\n",
            "31/31 [==============================] - 0s 5ms/step - loss: 0.4551 - accuracy: 0.8301 - val_loss: 0.5272 - val_accuracy: 0.7692\n",
            "Epoch 42/60\n",
            "31/31 [==============================] - 0s 5ms/step - loss: 0.4428 - accuracy: 0.8039 - val_loss: 0.4884 - val_accuracy: 0.7692\n",
            "Epoch 43/60\n",
            "31/31 [==============================] - 0s 5ms/step - loss: 0.4344 - accuracy: 0.8366 - val_loss: 0.4416 - val_accuracy: 0.7949\n",
            "Epoch 44/60\n",
            "31/31 [==============================] - 0s 6ms/step - loss: 0.4318 - accuracy: 0.8497 - val_loss: 0.4591 - val_accuracy: 0.7949\n",
            "Epoch 45/60\n",
            "31/31 [==============================] - 0s 7ms/step - loss: 0.4205 - accuracy: 0.8170 - val_loss: 0.4119 - val_accuracy: 0.8462\n",
            "Epoch 46/60\n",
            "31/31 [==============================] - 0s 5ms/step - loss: 0.4184 - accuracy: 0.8301 - val_loss: 0.4810 - val_accuracy: 0.7949\n",
            "Epoch 47/60\n",
            "31/31 [==============================] - 0s 4ms/step - loss: 0.4532 - accuracy: 0.8105 - val_loss: 0.5302 - val_accuracy: 0.7949\n",
            "Epoch 48/60\n",
            "31/31 [==============================] - 0s 3ms/step - loss: 0.4491 - accuracy: 0.8105 - val_loss: 0.4421 - val_accuracy: 0.7692\n",
            "Epoch 49/60\n",
            "31/31 [==============================] - 0s 4ms/step - loss: 0.4071 - accuracy: 0.8366 - val_loss: 0.4042 - val_accuracy: 0.8462\n",
            "Epoch 50/60\n",
            "31/31 [==============================] - 0s 3ms/step - loss: 0.4044 - accuracy: 0.8431 - val_loss: 0.4444 - val_accuracy: 0.7692\n",
            "Epoch 51/60\n",
            "31/31 [==============================] - 0s 3ms/step - loss: 0.4331 - accuracy: 0.8235 - val_loss: 0.3945 - val_accuracy: 0.8462\n",
            "Epoch 52/60\n",
            "31/31 [==============================] - 0s 3ms/step - loss: 0.4106 - accuracy: 0.8235 - val_loss: 0.5319 - val_accuracy: 0.7692\n",
            "Epoch 53/60\n",
            "31/31 [==============================] - 0s 4ms/step - loss: 0.4462 - accuracy: 0.7908 - val_loss: 0.4109 - val_accuracy: 0.7692\n",
            "Epoch 54/60\n",
            "31/31 [==============================] - 0s 4ms/step - loss: 0.4063 - accuracy: 0.8301 - val_loss: 0.4211 - val_accuracy: 0.7692\n",
            "Epoch 55/60\n",
            "31/31 [==============================] - 0s 3ms/step - loss: 0.3908 - accuracy: 0.8693 - val_loss: 0.3847 - val_accuracy: 0.8718\n",
            "Epoch 56/60\n",
            "31/31 [==============================] - 0s 4ms/step - loss: 0.4042 - accuracy: 0.8105 - val_loss: 0.4135 - val_accuracy: 0.8462\n",
            "Epoch 57/60\n",
            "31/31 [==============================] - 0s 4ms/step - loss: 0.4162 - accuracy: 0.7908 - val_loss: 0.3929 - val_accuracy: 0.8462\n",
            "Epoch 58/60\n",
            "31/31 [==============================] - 0s 3ms/step - loss: 0.3990 - accuracy: 0.8497 - val_loss: 0.4436 - val_accuracy: 0.7692\n",
            "Epoch 59/60\n",
            "31/31 [==============================] - 0s 3ms/step - loss: 0.4109 - accuracy: 0.8627 - val_loss: 0.3989 - val_accuracy: 0.8462\n",
            "Epoch 60/60\n",
            "31/31 [==============================] - 0s 4ms/step - loss: 0.3579 - accuracy: 0.8758 - val_loss: 0.4129 - val_accuracy: 0.8205\n"
          ]
        },
        {
          "output_type": "execute_result",
          "data": {
            "text/plain": [
              "<keras.callbacks.History at 0x7efcd2703970>"
            ]
          },
          "metadata": {},
          "execution_count": 265
        }
      ]
    },
    {
      "cell_type": "markdown",
      "source": [
        "Task 3: Test the model with random data"
      ],
      "metadata": {
        "id": "hWELdLplBagQ"
      }
    },
    {
      "cell_type": "code",
      "source": [
        "# Testing\n",
        "ypred = model.predict([[50,0,2,0,13]])\n",
        "ypred"
      ],
      "metadata": {
        "colab": {
          "base_uri": "https://localhost:8080/"
        },
        "id": "0anwpJ_GRMgk",
        "outputId": "1955153f-441b-4194-92b0-945787f0ec22"
      },
      "execution_count": null,
      "outputs": [
        {
          "output_type": "stream",
          "name": "stdout",
          "text": [
            "1/1 [==============================] - 0s 94ms/step\n"
          ]
        },
        {
          "output_type": "execute_result",
          "data": {
            "text/plain": [
              "array([[2.7742812e-01, 5.9403199e-05, 2.8841650e-05, 6.1374228e-02,\n",
              "        6.6110939e-01]], dtype=float32)"
            ]
          },
          "metadata": {},
          "execution_count": 266
        }
      ]
    },
    {
      "cell_type": "code",
      "source": [
        "ypred = np.argmax(ypred)\n",
        "Possible_Outputs = df['Drug'].unique()\n",
        "print(Possible_Outputs)"
      ],
      "metadata": {
        "colab": {
          "base_uri": "https://localhost:8080/"
        },
        "id": "OH5n04rqUHjF",
        "outputId": "cad1a50a-9bdb-4577-e29d-8d8dda829c40"
      },
      "execution_count": null,
      "outputs": [
        {
          "output_type": "stream",
          "name": "stdout",
          "text": [
            "['DrugY' 'drugC' 'drugX' 'drugA' 'drugB']\n"
          ]
        }
      ]
    },
    {
      "cell_type": "code",
      "source": [
        "output = Possible_Outputs[ypred]\n",
        "output"
      ],
      "metadata": {
        "colab": {
          "base_uri": "https://localhost:8080/",
          "height": 35
        },
        "id": "8NS2DhJJVPW5",
        "outputId": "2bae6a90-9c16-4437-ac40-283baea8504d"
      },
      "execution_count": null,
      "outputs": [
        {
          "output_type": "execute_result",
          "data": {
            "text/plain": [
              "'drugB'"
            ],
            "application/vnd.google.colaboratory.intrinsic+json": {
              "type": "string"
            }
          },
          "metadata": {},
          "execution_count": 268
        }
      ]
    },
    {
      "cell_type": "code",
      "source": [
        "# Accuracy\n",
        "test_loss, test_acc = model.evaluate(xtest, ytest)\n",
        "print('Accuracy: ', test_acc * 100)"
      ],
      "metadata": {
        "colab": {
          "base_uri": "https://localhost:8080/"
        },
        "id": "CvQuOAewdMuL",
        "outputId": "9e0e849f-aa96-4ba6-c9c2-1ccf280cb817"
      },
      "execution_count": null,
      "outputs": [
        {
          "output_type": "stream",
          "name": "stdout",
          "text": [
            "2/2 [==============================] - 0s 8ms/step - loss: 0.4129 - accuracy: 0.8205\n",
            "Accuracy:  82.05128312110901\n"
          ]
        }
      ]
    }
  ]
}