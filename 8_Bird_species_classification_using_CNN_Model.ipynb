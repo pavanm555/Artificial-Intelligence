{
  "metadata": {
    "kernelspec": {
      "language": "python",
      "display_name": "Python 3",
      "name": "python3"
    },
    "language_info": {
      "name": "python",
      "version": "3.10.10",
      "mimetype": "text/x-python",
      "codemirror_mode": {
        "name": "ipython",
        "version": 3
      },
      "pygments_lexer": "ipython3",
      "nbconvert_exporter": "python",
      "file_extension": ".py"
    },
    "colab": {
      "provenance": [],
      "include_colab_link": true
    }
  },
  "nbformat_minor": 0,
  "nbformat": 4,
  "cells": [
    {
      "cell_type": "markdown",
      "metadata": {
        "id": "view-in-github",
        "colab_type": "text"
      },
      "source": [
        "<a href=\"https://colab.research.google.com/github/pavanm555/Artificial-Intelligence/blob/main/8_Bird_species_classification_using_CNN_Model.ipynb\" target=\"_parent\"><img src=\"https://colab.research.google.com/assets/colab-badge.svg\" alt=\"Open In Colab\"/></a>"
      ]
    },
    {
      "cell_type": "code",
      "source": [
        "import numpy as np\n",
        "import pandas as pd\n",
        "\n",
        "# Importing data from kaggle\n",
        "# Print the file paths in the input directory\n",
        "import os\n",
        "for dirname, _, filenames in os.walk('/kaggle/input'):\n",
        "    for filename in filenames:\n",
        "        print(os.path.join(dirname, filename))"
      ],
      "metadata": {
        "_uuid": "8f2839f25d086af736a60e9eeb907d3b93b6e0e5",
        "_cell_guid": "b1076dfc-b9ad-4769-8c92-a6c4dae69d19",
        "execution": {
          "iopub.status.busy": "2023-06-07T11:48:53.751570Z",
          "iopub.execute_input": "2023-06-07T11:48:53.752702Z",
          "iopub.status.idle": "2023-06-07T11:48:53.848391Z",
          "shell.execute_reply.started": "2023-06-07T11:48:53.752662Z",
          "shell.execute_reply": "2023-06-07T11:48:53.847405Z"
        },
        "trusted": true,
        "id": "33esnmQnCmoD",
        "outputId": "f906e878-5382-4dde-9c94-24cdc8d9038c"
      },
      "execution_count": null,
      "outputs": [
        {
          "name": "stdout",
          "text": "/kaggle/input/bird-species-classification/test_data/test_data/brhkyt/D72_0475.jpg\n/kaggle/input/bird-species-classification/test_data/test_data/brhkyt/D72_0473.jpg\n/kaggle/input/bird-species-classification/test_data/test_data/brhkyt/D72_0479.jpg\n/kaggle/input/bird-species-classification/test_data/test_data/brhkyt/D72_0477.jpg\n/kaggle/input/bird-species-classification/test_data/test_data/brhkyt/D72_0474.jpg\n/kaggle/input/bird-species-classification/test_data/test_data/brhkyt/D72_0478.jpg\n/kaggle/input/bird-species-classification/test_data/test_data/cbrtsh/_D32_10318.jpg\n/kaggle/input/bird-species-classification/test_data/test_data/cbrtsh/_D32_10313.jpg\n/kaggle/input/bird-species-classification/test_data/test_data/cbrtsh/_D32_10311.jpg\n/kaggle/input/bird-species-classification/test_data/test_data/cbrtsh/_D32_10312.jpg\n/kaggle/input/bird-species-classification/test_data/test_data/cbrtsh/_D32_10317.jpg\n/kaggle/input/bird-species-classification/test_data/test_data/cbrtsh/_D32_10314.jpg\n/kaggle/input/bird-species-classification/test_data/test_data/cbrtsh/_D32_10310.jpg\n/kaggle/input/bird-species-classification/test_data/test_data/himgri/IMG_5385.JPG\n/kaggle/input/bird-species-classification/test_data/test_data/himgri/IMG_5487.JPG\n/kaggle/input/bird-species-classification/test_data/test_data/himgri/IMG_5491.JPG\n/kaggle/input/bird-species-classification/test_data/test_data/himgri/IMG_5492.JPG\n/kaggle/input/bird-species-classification/test_data/test_data/himgri/IMG_5490.JPG\n/kaggle/input/bird-species-classification/test_data/test_data/himgri/P1020742.jpg\n/kaggle/input/bird-species-classification/test_data/test_data/himgri/P1020748.jpg\n/kaggle/input/bird-species-classification/test_data/test_data/himgri/P1060777.jpg\n/kaggle/input/bird-species-classification/test_data/test_data/himgri/P1060778.jpg\n/kaggle/input/bird-species-classification/test_data/test_data/himgri/IMG_5488.JPG\n/kaggle/input/bird-species-classification/test_data/test_data/himgri/IMG_5459.JPG\n/kaggle/input/bird-species-classification/test_data/test_data/himgri/P1030055.jpg\n/kaggle/input/bird-species-classification/test_data/test_data/himgri/P1060776.jpg\n/kaggle/input/bird-species-classification/test_data/test_data/himgri/P1020743.jpg\n/kaggle/input/bird-species-classification/test_data/test_data/himgri/IMG_5384.JPG\n/kaggle/input/bird-species-classification/test_data/test_data/himgri/P1020746.jpg\n/kaggle/input/bird-species-classification/test_data/test_data/himgri/IMG_5387.JPG\n/kaggle/input/bird-species-classification/test_data/test_data/himgri/IMG_5460.JPG\n/kaggle/input/bird-species-classification/test_data/test_data/himgri/IMG_5489.JPG\n/kaggle/input/bird-species-classification/test_data/test_data/himgri/IMG_5386.JPG\n/kaggle/input/bird-species-classification/test_data/test_data/indvul/DSC_1275.jpg\n/kaggle/input/bird-species-classification/test_data/test_data/indvul/_DSC9523.jpg\n/kaggle/input/bird-species-classification/test_data/test_data/indvul/DSC_1274.jpg\n/kaggle/input/bird-species-classification/test_data/test_data/indvul/_DSC9521.jpg\n/kaggle/input/bird-species-classification/test_data/test_data/indvul/DSC_1263.jpg\n/kaggle/input/bird-species-classification/test_data/test_data/indvul/DSC_1277.jpg\n/kaggle/input/bird-species-classification/test_data/test_data/indvul/_DSC9520.jpg\n/kaggle/input/bird-species-classification/test_data/test_data/indvul/_DSC8754.jpg\n/kaggle/input/bird-species-classification/test_data/test_data/indvul/DSC_1273.jpg\n/kaggle/input/bird-species-classification/test_data/test_data/hsparo/100_5585.JPG\n/kaggle/input/bird-species-classification/test_data/test_data/hsparo/_DSC_11246.jpg\n/kaggle/input/bird-species-classification/test_data/test_data/hsparo/DSC_7619.jpg\n/kaggle/input/bird-species-classification/test_data/test_data/hsparo/100_5742.JPG\n/kaggle/input/bird-species-classification/test_data/test_data/hsparo/DSC_4521.jpg\n/kaggle/input/bird-species-classification/test_data/test_data/hsparo/100_5573.JPG\n/kaggle/input/bird-species-classification/test_data/test_data/hsparo/_DSC_11244.jpg\n/kaggle/input/bird-species-classification/test_data/test_data/hsparo/12265273154_48e0fefd42_o.jpg\n/kaggle/input/bird-species-classification/test_data/test_data/hsparo/100_5586.JPG\n/kaggle/input/bird-species-classification/test_data/test_data/blasti/DSC_6409.jpg\n/kaggle/input/bird-species-classification/test_data/test_data/blasti/DSC_6411.jpg\n/kaggle/input/bird-species-classification/test_data/test_data/blasti/DSC_6407.jpg\n/kaggle/input/bird-species-classification/test_data/test_data/blasti/DSC_6401.jpg\n/kaggle/input/bird-species-classification/test_data/test_data/blasti/DSC_6408.jpg\n/kaggle/input/bird-species-classification/test_data/test_data/blasti/DSC_6398.jpg\n/kaggle/input/bird-species-classification/test_data/test_data/blasti/DSC_6397.jpg\n/kaggle/input/bird-species-classification/test_data/test_data/blasti/DSC_6405.jpg\n/kaggle/input/bird-species-classification/test_data/test_data/blasti/DSC_6399.jpg\n/kaggle/input/bird-species-classification/test_data/test_data/blasti/DSC_6406.jpg\n/kaggle/input/bird-species-classification/test_data/test_data/blasti/DSC_6396.jpg\n/kaggle/input/bird-species-classification/test_data/test_data/blasti/DSC_6403.jpg\n/kaggle/input/bird-species-classification/test_data/test_data/blasti/DSC_6400.jpg\n/kaggle/input/bird-species-classification/test_data/test_data/blasti/DSC_6402.jpg\n/kaggle/input/bird-species-classification/test_data/test_data/blasti/DSC_6410.jpg\n/kaggle/input/bird-species-classification/test_data/test_data/cmnmyn/DSC_2443.jpg\n/kaggle/input/bird-species-classification/test_data/test_data/cmnmyn/DSC_7625.jpg\n/kaggle/input/bird-species-classification/test_data/test_data/cmnmyn/DSC_4681.jpg\n/kaggle/input/bird-species-classification/test_data/test_data/cmnmyn/_D32_12427.jpg\n/kaggle/input/bird-species-classification/test_data/test_data/cmnmyn/P1050277.jpg\n/kaggle/input/bird-species-classification/test_data/test_data/cmnmyn/_D32_12428.jpg\n/kaggle/input/bird-species-classification/test_data/test_data/cmnmyn/DSC_5137.jpg\n/kaggle/input/bird-species-classification/test_data/test_data/cmnmyn/_D32_12426.jpg\n/kaggle/input/bird-species-classification/test_data/test_data/wcrsrt/100_4466.JPG\n/kaggle/input/bird-species-classification/test_data/test_data/wcrsrt/100_5103.JPG\n/kaggle/input/bird-species-classification/test_data/test_data/wcrsrt/100_5105.JPG\n/kaggle/input/bird-species-classification/test_data/test_data/wcrsrt/11382746854_7ce73793b3_o.jpg\n/kaggle/input/bird-species-classification/test_data/test_data/wcrsrt/100_4463.JPG\n/kaggle/input/bird-species-classification/test_data/test_data/wcrsrt/100_4462.JPG\n/kaggle/input/bird-species-classification/test_data/test_data/wcrsrt/100_4464.JPG\n/kaggle/input/bird-species-classification/test_data/test_data/wcrsrt/100_4467.JPG\n/kaggle/input/bird-species-classification/test_data/test_data/wcrsrt/11382677585_ef6570a041_o.jpg\n/kaggle/input/bird-species-classification/test_data/test_data/wcrsrt/100_4468.JPG\n/kaggle/input/bird-species-classification/test_data/test_data/lbicrw/IMG_5541.JPG\n/kaggle/input/bird-species-classification/test_data/test_data/lbicrw/IMG_5538.JPG\n/kaggle/input/bird-species-classification/test_data/test_data/lbicrw/IMG_5544.JPG\n/kaggle/input/bird-species-classification/test_data/test_data/lbicrw/P1030030.jpg\n/kaggle/input/bird-species-classification/test_data/test_data/lbicrw/IMG_5543.JPG\n/kaggle/input/bird-species-classification/test_data/test_data/lbicrw/100_4917.JPG\n/kaggle/input/bird-species-classification/test_data/test_data/jglowl/_D32_13515.jpg\n/kaggle/input/bird-species-classification/test_data/test_data/jglowl/_D32_13516.jpg\n/kaggle/input/bird-species-classification/test_data/test_data/jglowl/_D32_13517.jpg\n/kaggle/input/bird-species-classification/test_data/test_data/jglowl/_D32_10584.jpg\n/kaggle/input/bird-species-classification/test_data/test_data/jglowl/_D32_10593.jpg\n/kaggle/input/bird-species-classification/test_data/test_data/jglowl/_D32_10587.jpg\n/kaggle/input/bird-species-classification/test_data/test_data/bonegl/DSC_4587.jpg\n/kaggle/input/bird-species-classification/test_data/test_data/bonegl/DSC_4592.jpg\n/kaggle/input/bird-species-classification/test_data/test_data/bonegl/DSC_4588.jpg\n/kaggle/input/bird-species-classification/test_data/test_data/bonegl/DSC_4593.jpg\n/kaggle/input/bird-species-classification/test_data/test_data/bonegl/DSC_4591.jpg\n/kaggle/input/bird-species-classification/test_data/test_data/bonegl/DSC_4589.jpg\n/kaggle/input/bird-species-classification/test_data/test_data/bonegl/DSC_4590.jpg\n/kaggle/input/bird-species-classification/test_data/test_data/himbul/D72_0691.jpg\n/kaggle/input/bird-species-classification/test_data/test_data/himbul/DSC_3230.jpg\n/kaggle/input/bird-species-classification/test_data/test_data/himbul/D72_0688.jpg\n/kaggle/input/bird-species-classification/test_data/test_data/himbul/11620097904_33fa8ee878_o.jpg\n/kaggle/input/bird-species-classification/test_data/test_data/himbul/P1060368.jpg\n/kaggle/input/bird-species-classification/test_data/test_data/himbul/11619942574_42f23a7b05_o.jpg\n/kaggle/input/bird-species-classification/test_data/test_data/himbul/_D32_10320.jpg\n/kaggle/input/bird-species-classification/test_data/test_data/himbul/11602064885_3826df4500_o.jpg\n/kaggle/input/bird-species-classification/test_data/test_data/himbul/DSC_7602.jpg\n/kaggle/input/bird-species-classification/test_data/test_data/himbul/DSC_7439.jpg\n/kaggle/input/bird-species-classification/test_data/test_data/himbul/5857371972_ed4f88b275_o.jpg\n/kaggle/input/bird-species-classification/test_data/test_data/himbul/P1060369.jpg\n/kaggle/input/bird-species-classification/test_data/test_data/himbul/DSC08357.jpg\n/kaggle/input/bird-species-classification/test_data/test_data/himbul/_D32_10245.jpg\n/kaggle/input/bird-species-classification/test_data/test_data/himbul/_D32_10242.jpg\n/kaggle/input/bird-species-classification/test_data/test_data/himbul/_DSC9446.jpg\n/kaggle/input/bird-species-classification/test_data/test_data/himbul/6154954471_eefe6e00d1_o.jpg\n/kaggle/input/bird-species-classification/test_data/test_data/himbul/_D32_10319.jpg\n/kaggle/input/bird-species-classification/test_data/test_data/himbul/_D32_10251.jpg\n/kaggle/input/bird-species-classification/test_data/test_data/gretit/11905645146_6a5d4ff9f9_o.jpg\n/kaggle/input/bird-species-classification/test_data/test_data/gretit/D72_0694.jpg\n/kaggle/input/bird-species-classification/test_data/test_data/gretit/11620454726_31a35c26da_o.jpg\n/kaggle/input/bird-species-classification/test_data/test_data/gretit/8537646712_0b282c4c6a_o.jpg\n/kaggle/input/bird-species-classification/test_data/test_data/gretit/D72_0693.jpg\n/kaggle/input/bird-species-classification/test_data/test_data/gretit/D72_0695.jpg\n/kaggle/input/bird-species-classification/test_data/test_data/gretit/11776135285_ccf938fa2e_o.jpg\n/kaggle/input/bird-species-classification/test_data/test_data/hilpig/P1050044.jpg\n/kaggle/input/bird-species-classification/test_data/test_data/hilpig/DSC_6359.jpg\n/kaggle/input/bird-species-classification/test_data/test_data/hilpig/P1000319.jpg\n/kaggle/input/bird-species-classification/test_data/test_data/hilpig/DSC_6364.jpg\n/kaggle/input/bird-species-classification/test_data/test_data/hilpig/P1000323.jpg\n/kaggle/input/bird-species-classification/test_data/test_data/hilpig/DSC_6404.jpg\n/kaggle/input/bird-species-classification/test_data/test_data/hilpig/P1050045.jpg\n/kaggle/input/bird-species-classification/test_data/test_data/hilpig/DSC_6403.jpg\n/kaggle/input/bird-species-classification/test_data/test_data/hilpig/DSC_6362.jpg\n/kaggle/input/bird-species-classification/test_data/test_data/hilpig/DSC_6368.jpg\n/kaggle/input/bird-species-classification/test_data/test_data/mgprob/100_5811.JPG\n/kaggle/input/bird-species-classification/test_data/test_data/mgprob/_DSC0133.jpg\n/kaggle/input/bird-species-classification/test_data/test_data/mgprob/DSC_3233.jpg\n/kaggle/input/bird-species-classification/test_data/test_data/mgprob/100_5813.JPG\n/kaggle/input/bird-species-classification/test_data/test_data/mgprob/_DSC0135.jpg\n/kaggle/input/bird-species-classification/test_data/test_data/mgprob/_DSC0085.jpg\n/kaggle/input/bird-species-classification/test_data/test_data/mgprob/100_5812.JPG\n/kaggle/input/bird-species-classification/test_data/test_data/rebimg/100_5757.JPG\n/kaggle/input/bird-species-classification/test_data/test_data/rebimg/13009302395_5d88a9d62b_o.jpg\n/kaggle/input/bird-species-classification/test_data/test_data/rebimg/100_5756.JPG\n/kaggle/input/bird-species-classification/test_data/test_data/rebimg/100_5759.JPG\n/kaggle/input/bird-species-classification/test_data/test_data/rebimg/13009315305_f1cbfb6767_o.jpg\n/kaggle/input/bird-species-classification/test_data/test_data/rebimg/13009451823_8eb502581f_o.jpg\n/kaggle/input/bird-species-classification/test_data/test_data/rebimg/100_5758.JPG\n/kaggle/input/bird-species-classification/test_data/test_data/rebimg/IMG_5252.JPG\n/kaggle/input/bird-species-classification/test_data/test_data/rebimg/IMG_5251.JPG\n/kaggle/input/bird-species-classification/test_data/test_data/rebimg/DSC_7148.jpg\n/kaggle/input/bird-species-classification/test_data/test_data/rebimg/100_5760.JPG\n/kaggle/input/bird-species-classification/train_data/train_data/brhkyt/D72_0470.jpg\n/kaggle/input/bird-species-classification/train_data/train_data/brhkyt/D72_0401.jpg\n/kaggle/input/bird-species-classification/train_data/train_data/brhkyt/D72_0400.jpg\n/kaggle/input/bird-species-classification/train_data/train_data/brhkyt/D72_0471.jpg\n/kaggle/input/bird-species-classification/train_data/train_data/brhkyt/D72_0472.jpg\n/kaggle/input/bird-species-classification/train_data/train_data/cbrtsh/_D32_10309.jpg\n/kaggle/input/bird-species-classification/train_data/train_data/cbrtsh/_D32_10307.jpg\n/kaggle/input/bird-species-classification/train_data/train_data/cbrtsh/_D32_10306.jpg\n/kaggle/input/bird-species-classification/train_data/train_data/cbrtsh/_D32_10303.jpg\n/kaggle/input/bird-species-classification/train_data/train_data/cbrtsh/100_5097.JPG\n/kaggle/input/bird-species-classification/train_data/train_data/cbrtsh/_D32_10305.jpg\n/kaggle/input/bird-species-classification/train_data/train_data/cbrtsh/_D32_10308.jpg\n/kaggle/input/bird-species-classification/train_data/train_data/himgri/12152037683_13e1556c41_o.jpg\n/kaggle/input/bird-species-classification/train_data/train_data/himgri/12266077576_1d7143aaf7_o.jpg\n/kaggle/input/bird-species-classification/train_data/train_data/himgri/12265738206_2b9b25cc8a_o.jpg\n/kaggle/input/bird-species-classification/train_data/train_data/himgri/12030269234_1c3f5a8e8c_o.jpg\n/kaggle/input/bird-species-classification/train_data/train_data/himgri/12265582724_61cb64e73a_o.jpg\n/kaggle/input/bird-species-classification/train_data/train_data/himgri/12266053036_fcab92d8e8_o.jpg\n/kaggle/input/bird-species-classification/train_data/train_data/himgri/12265498144_d2e80faa3b_o.jpg\n/kaggle/input/bird-species-classification/train_data/train_data/himgri/IMG_5463.JPG\n/kaggle/input/bird-species-classification/train_data/train_data/himgri/12266086526_82cd337667_o.jpg\n/kaggle/input/bird-species-classification/train_data/train_data/himgri/12029790563_2fe54a68aa_o.jpg\n/kaggle/input/bird-species-classification/train_data/train_data/himgri/12029822653_1185544e7b_o.jpg\n/kaggle/input/bird-species-classification/train_data/train_data/himgri/12030221124_1baaf905d1_o.jpg\n/kaggle/input/bird-species-classification/train_data/train_data/himgri/12265055185_138e3c7c70_o.jpg\n/kaggle/input/bird-species-classification/train_data/train_data/himgri/12265561764_4814951031_o.jpg\n/kaggle/input/bird-species-classification/train_data/train_data/himgri/12029933015_802428e277_o.jpg\n/kaggle/input/bird-species-classification/train_data/train_data/himgri/12030165813_f5341e8ed0_o.jpg\n/kaggle/input/bird-species-classification/train_data/train_data/himgri/12152178844_dc29e3126f_o.jpg\n/kaggle/input/bird-species-classification/train_data/train_data/himgri/12029987304_031b7a2d53_o.jpg\n/kaggle/input/bird-species-classification/train_data/train_data/himgri/12152510436_23b62fed3b_o.jpg\n/kaggle/input/bird-species-classification/train_data/train_data/himgri/12265747116_d4b4fa3741_o.jpg\n/kaggle/input/bird-species-classification/train_data/train_data/indvul/DSC_0576e.jpg\n/kaggle/input/bird-species-classification/train_data/train_data/indvul/DSC_0583e.jpg\n/kaggle/input/bird-species-classification/train_data/train_data/indvul/DSC_0571e.jpg\n/kaggle/input/bird-species-classification/train_data/train_data/indvul/DSC_0617.jpg\n/kaggle/input/bird-species-classification/train_data/train_data/indvul/DSC_0584.jpg\n/kaggle/input/bird-species-classification/train_data/train_data/indvul/DSC_0502.jpg\n/kaggle/input/bird-species-classification/train_data/train_data/indvul/DSC_0616c.jpg\n/kaggle/input/bird-species-classification/train_data/train_data/indvul/DSC_0572.jpg\n/kaggle/input/bird-species-classification/train_data/train_data/indvul/DSC_0582.jpg\n/kaggle/input/bird-species-classification/train_data/train_data/hsparo/100_5040.JPG\n/kaggle/input/bird-species-classification/train_data/train_data/hsparo/100_5039.JPG\n/kaggle/input/bird-species-classification/train_data/train_data/hsparo/100_4757.JPG\n/kaggle/input/bird-species-classification/train_data/train_data/hsparo/100_5049.JPG\n/kaggle/input/bird-species-classification/train_data/train_data/hsparo/100_5572.JPG\n/kaggle/input/bird-species-classification/train_data/train_data/hsparo/100_5050.JPG\n/kaggle/input/bird-species-classification/train_data/train_data/hsparo/100_4758.JPG\n/kaggle/input/bird-species-classification/train_data/train_data/hsparo/100_5048.JPG\n/kaggle/input/bird-species-classification/train_data/train_data/hsparo/100_5041.JPG\n/kaggle/input/bird-species-classification/train_data/train_data/blasti/DSC_6388.jpg\n/kaggle/input/bird-species-classification/train_data/train_data/blasti/DSC_6386.jpg\n/kaggle/input/bird-species-classification/train_data/train_data/blasti/DSC_6390.jpg\n/kaggle/input/bird-species-classification/train_data/train_data/blasti/DSC_6384.jpg\n/kaggle/input/bird-species-classification/train_data/train_data/blasti/DSC_6394.jpg\n/kaggle/input/bird-species-classification/train_data/train_data/blasti/DSC_6384-2.jpg\n/kaggle/input/bird-species-classification/train_data/train_data/blasti/DSC_6387.jpg\n/kaggle/input/bird-species-classification/train_data/train_data/blasti/DSC_6383.jpg\n/kaggle/input/bird-species-classification/train_data/train_data/blasti/DSC_6395.jpg\n/kaggle/input/bird-species-classification/train_data/train_data/blasti/DSC_6392.jpg\n/kaggle/input/bird-species-classification/train_data/train_data/blasti/DSC_6385.jpg\n/kaggle/input/bird-species-classification/train_data/train_data/blasti/DSC_6393.jpg\n/kaggle/input/bird-species-classification/train_data/train_data/blasti/DSC_6391.jpg\n/kaggle/input/bird-species-classification/train_data/train_data/blasti/DSC_6382.jpg\n/kaggle/input/bird-species-classification/train_data/train_data/blasti/DSC_6389.jpg\n/kaggle/input/bird-species-classification/train_data/train_data/cmnmyn/DSCN5784.jpg\n/kaggle/input/bird-species-classification/train_data/train_data/cmnmyn/DSCN5791.jpg\n/kaggle/input/bird-species-classification/train_data/train_data/cmnmyn/100_5763.JPG\n/kaggle/input/bird-species-classification/train_data/train_data/cmnmyn/6154956165_64266b8b53_o.jpg\n/kaggle/input/bird-species-classification/train_data/train_data/cmnmyn/DSCN5790.jpg\n/kaggle/input/bird-species-classification/train_data/train_data/cmnmyn/DSCN5787.jpg\n/kaggle/input/bird-species-classification/train_data/train_data/cmnmyn/5866682091_870ccc946c_o.jpg\n/kaggle/input/bird-species-classification/train_data/train_data/wcrsrt/100_4458.JPG\n/kaggle/input/bird-species-classification/train_data/train_data/wcrsrt/100_4455.JPG\n/kaggle/input/bird-species-classification/train_data/train_data/wcrsrt/100_4460.JPG\n/kaggle/input/bird-species-classification/train_data/train_data/wcrsrt/100_4456.JPG\n/kaggle/input/bird-species-classification/train_data/train_data/wcrsrt/100_4459.JPG\n/kaggle/input/bird-species-classification/train_data/train_data/wcrsrt/100_4457.JPG\n/kaggle/input/bird-species-classification/train_data/train_data/wcrsrt/100_4454.JPG\n/kaggle/input/bird-species-classification/train_data/train_data/wcrsrt/100_4461.JPG\n/kaggle/input/bird-species-classification/train_data/train_data/wcrsrt/100_4452.JPG\n/kaggle/input/bird-species-classification/train_data/train_data/wcrsrt/100_4453.JPG\n/kaggle/input/bird-species-classification/train_data/train_data/lbicrw/100_4914.JPG\n/kaggle/input/bird-species-classification/train_data/train_data/lbicrw/100_4915.JPG\n/kaggle/input/bird-species-classification/train_data/train_data/lbicrw/100_4037.JPG\n/kaggle/input/bird-species-classification/train_data/train_data/lbicrw/100_4916.JPG\n/kaggle/input/bird-species-classification/train_data/train_data/lbicrw/100_4912.JPG\n/kaggle/input/bird-species-classification/train_data/train_data/lbicrw/100_4913.JPG\n/kaggle/input/bird-species-classification/train_data/train_data/jglowl/_D32_10285.jpg\n/kaggle/input/bird-species-classification/train_data/train_data/jglowl/_D32_10578.jpg\n/kaggle/input/bird-species-classification/train_data/train_data/jglowl/DSC01335.jpg\n/kaggle/input/bird-species-classification/train_data/train_data/jglowl/DSC01336.jpg\n/kaggle/input/bird-species-classification/train_data/train_data/jglowl/12152151476_7a1524aabb_o.jpg\n/kaggle/input/bird-species-classification/train_data/train_data/jglowl/_D32_10583.jpg\n/kaggle/input/bird-species-classification/train_data/train_data/bonegl/DSC_4571.jpg\n/kaggle/input/bird-species-classification/train_data/train_data/bonegl/DSC_4570.jpg\n/kaggle/input/bird-species-classification/train_data/train_data/bonegl/DSC_4586.jpg\n/kaggle/input/bird-species-classification/train_data/train_data/bonegl/DSC_4584.jpg\n/kaggle/input/bird-species-classification/train_data/train_data/bonegl/DSC_4583.jpg\n/kaggle/input/bird-species-classification/train_data/train_data/bonegl/DSC_4585.jpg\n/kaggle/input/bird-species-classification/train_data/train_data/himbul/100_5112.JPG\n/kaggle/input/bird-species-classification/train_data/train_data/himbul/100_5159.JPG\n/kaggle/input/bird-species-classification/train_data/train_data/himbul/100_5113.JPG\n/kaggle/input/bird-species-classification/train_data/train_data/himbul/11383857084_cdd7514746_o.jpg\n/kaggle/input/bird-species-classification/train_data/train_data/himbul/100_5029.JPG\n/kaggle/input/bird-species-classification/train_data/train_data/himbul/100_5028.JPG\n/kaggle/input/bird-species-classification/train_data/train_data/himbul/100_5102.JPG\n/kaggle/input/bird-species-classification/train_data/train_data/himbul/9007817678_24db19fc63_o.jpg\n/kaggle/input/bird-species-classification/train_data/train_data/himbul/100_5161.JPG\n/kaggle/input/bird-species-classification/train_data/train_data/himbul/10774570945_9bc537c255_o.jpg\n/kaggle/input/bird-species-classification/train_data/train_data/himbul/100_5110.JPG\n/kaggle/input/bird-species-classification/train_data/train_data/himbul/100_5160.JPG\n/kaggle/input/bird-species-classification/train_data/train_data/himbul/100_5099.JPG\n/kaggle/input/bird-species-classification/train_data/train_data/himbul/11383838134_96e891a316_o.jpg\n/kaggle/input/bird-species-classification/train_data/train_data/himbul/100_5162.JPG\n/kaggle/input/bird-species-classification/train_data/train_data/himbul/100_5096.JPG\n/kaggle/input/bird-species-classification/train_data/train_data/himbul/11387473723_464965720a_o.jpg\n/kaggle/input/bird-species-classification/train_data/train_data/himbul/100_5100.JPG\n/kaggle/input/bird-species-classification/train_data/train_data/gretit/100_5047.JPG\n/kaggle/input/bird-species-classification/train_data/train_data/gretit/100_5042.JPG\n/kaggle/input/bird-species-classification/train_data/train_data/gretit/100_5045.JPG\n/kaggle/input/bird-species-classification/train_data/train_data/gretit/100_5046.JPG\n/kaggle/input/bird-species-classification/train_data/train_data/gretit/100_5044.JPG\n/kaggle/input/bird-species-classification/train_data/train_data/gretit/100_5043.JPG\n/kaggle/input/bird-species-classification/train_data/train_data/hilpig/DSC_6351.jpg\n/kaggle/input/bird-species-classification/train_data/train_data/hilpig/DSC_6358.jpg\n/kaggle/input/bird-species-classification/train_data/train_data/hilpig/DSC_6350.jpg\n/kaggle/input/bird-species-classification/train_data/train_data/hilpig/DSC_6272.jpg\n/kaggle/input/bird-species-classification/train_data/train_data/hilpig/DSC_6354.jpg\n/kaggle/input/bird-species-classification/train_data/train_data/hilpig/DSC_6274.jpg\n/kaggle/input/bird-species-classification/train_data/train_data/hilpig/DSC_6353.jpg\n/kaggle/input/bird-species-classification/train_data/train_data/hilpig/DSC_6275.jpg\n/kaggle/input/bird-species-classification/train_data/train_data/hilpig/DSC_6352.jpg\n/kaggle/input/bird-species-classification/train_data/train_data/hilpig/DSC_6273.jpg\n/kaggle/input/bird-species-classification/train_data/train_data/mgprob/100_5590.JPG\n/kaggle/input/bird-species-classification/train_data/train_data/mgprob/100_5588.JPG\n/kaggle/input/bird-species-classification/train_data/train_data/mgprob/100_5589.JPG\n/kaggle/input/bird-species-classification/train_data/train_data/mgprob/100_5762.JPG\n/kaggle/input/bird-species-classification/train_data/train_data/mgprob/100_5587.JPG\n/kaggle/input/bird-species-classification/train_data/train_data/mgprob/100_5592.JPG\n/kaggle/input/bird-species-classification/train_data/train_data/rebimg/100_5744.JPG\n/kaggle/input/bird-species-classification/train_data/train_data/rebimg/100_5754.JPG\n/kaggle/input/bird-species-classification/train_data/train_data/rebimg/100_5750.JPG\n/kaggle/input/bird-species-classification/train_data/train_data/rebimg/100_5746.JPG\n/kaggle/input/bird-species-classification/train_data/train_data/rebimg/100_5752.JPG\n/kaggle/input/bird-species-classification/train_data/train_data/rebimg/100_5748.JPG\n/kaggle/input/bird-species-classification/train_data/train_data/rebimg/100_5745.JPG\n/kaggle/input/bird-species-classification/train_data/train_data/rebimg/100_5751.JPG\n/kaggle/input/bird-species-classification/train_data/train_data/rebimg/100_5755.JPG\n/kaggle/input/bird-species-classification/train_data/train_data/rebimg/100_5749.JPG\n",
          "output_type": "stream"
        }
      ]
    },
    {
      "cell_type": "code",
      "source": [
        "# Ignore warnings\n",
        "import warnings\n",
        "warnings.filterwarnings(\"ignore\")"
      ],
      "metadata": {
        "execution": {
          "iopub.status.busy": "2023-06-07T11:48:53.850337Z",
          "iopub.execute_input": "2023-06-07T11:48:53.851020Z",
          "iopub.status.idle": "2023-06-07T11:48:53.855773Z",
          "shell.execute_reply.started": "2023-06-07T11:48:53.850982Z",
          "shell.execute_reply": "2023-06-07T11:48:53.854640Z"
        },
        "trusted": true,
        "id": "fkINhq4OCmoF"
      },
      "execution_count": null,
      "outputs": []
    },
    {
      "cell_type": "code",
      "source": [
        "# Data Augmentation\n",
        "from tensorflow.keras.preprocessing.image import ImageDataGenerator"
      ],
      "metadata": {
        "execution": {
          "iopub.status.busy": "2023-06-07T11:48:53.857801Z",
          "iopub.execute_input": "2023-06-07T11:48:53.859453Z",
          "iopub.status.idle": "2023-06-07T11:48:57.023052Z",
          "shell.execute_reply.started": "2023-06-07T11:48:53.859414Z",
          "shell.execute_reply": "2023-06-07T11:48:57.022086Z"
        },
        "trusted": true,
        "id": "8r0R4ynBCmoF"
      },
      "execution_count": null,
      "outputs": []
    },
    {
      "cell_type": "code",
      "source": [
        "# Create data generators for training and testing data\n",
        "train_gen = ImageDataGenerator(rescale=(1./255),shear_range=0.2,horizontal_flip=True)\n",
        "test_gen = ImageDataGenerator(rescale=1./255) # --> (0 to 255) convert to (0 to 1)"
      ],
      "metadata": {
        "execution": {
          "iopub.status.busy": "2023-06-07T11:48:57.025656Z",
          "iopub.execute_input": "2023-06-07T11:48:57.026735Z",
          "iopub.status.idle": "2023-06-07T11:48:57.031714Z",
          "shell.execute_reply.started": "2023-06-07T11:48:57.026692Z",
          "shell.execute_reply": "2023-06-07T11:48:57.030647Z"
        },
        "trusted": true,
        "id": "RDIBNhJOCmoG"
      },
      "execution_count": null,
      "outputs": []
    },
    {
      "cell_type": "code",
      "source": [
        "# Load training and testing data using the data generator\n",
        "\n",
        "train = train_gen.flow_from_directory('/kaggle/input/bird-species-classification/train_data/train_data',\n",
        "                                      target_size=(120,120),\n",
        "                                      class_mode='categorical',\n",
        "                                      batch_size=10)\n",
        "test = test_gen.flow_from_directory('/kaggle/input/bird-species-classification/test_data/test_data',\n",
        "                                      target_size=(120,120),\n",
        "                                      class_mode='categorical',\n",
        "                                      batch_size=10)"
      ],
      "metadata": {
        "execution": {
          "iopub.status.busy": "2023-06-07T11:48:57.033328Z",
          "iopub.execute_input": "2023-06-07T11:48:57.034370Z",
          "iopub.status.idle": "2023-06-07T11:48:57.084828Z",
          "shell.execute_reply.started": "2023-06-07T11:48:57.034335Z",
          "shell.execute_reply": "2023-06-07T11:48:57.083919Z"
        },
        "trusted": true,
        "id": "ShwhvVs2CmoG",
        "outputId": "83671fc1-aed3-4084-b3c1-22c206492279"
      },
      "execution_count": null,
      "outputs": [
        {
          "name": "stdout",
          "text": "Found 150 images belonging to 16 classes.\nFound 157 images belonging to 16 classes.\n",
          "output_type": "stream"
        }
      ]
    },
    {
      "cell_type": "code",
      "source": [
        "train.class_indices"
      ],
      "metadata": {
        "execution": {
          "iopub.status.busy": "2023-06-07T11:48:57.086145Z",
          "iopub.execute_input": "2023-06-07T11:48:57.086730Z",
          "iopub.status.idle": "2023-06-07T11:48:57.094924Z",
          "shell.execute_reply.started": "2023-06-07T11:48:57.086688Z",
          "shell.execute_reply": "2023-06-07T11:48:57.093986Z"
        },
        "trusted": true,
        "id": "mb2_YRYGCmoH",
        "outputId": "9472b663-1512-4168-a056-a2f4c7de5358"
      },
      "execution_count": null,
      "outputs": [
        {
          "execution_count": 6,
          "output_type": "execute_result",
          "data": {
            "text/plain": "{'blasti': 0,\n 'bonegl': 1,\n 'brhkyt': 2,\n 'cbrtsh': 3,\n 'cmnmyn': 4,\n 'gretit': 5,\n 'hilpig': 6,\n 'himbul': 7,\n 'himgri': 8,\n 'hsparo': 9,\n 'indvul': 10,\n 'jglowl': 11,\n 'lbicrw': 12,\n 'mgprob': 13,\n 'rebimg': 14,\n 'wcrsrt': 15}"
          },
          "metadata": {}
        }
      ]
    },
    {
      "cell_type": "code",
      "source": [
        "# CNN\n",
        "from tensorflow.keras.layers import Convolution2D, MaxPooling2D, Flatten, Dense\n",
        "from tensorflow.keras.models import Sequential"
      ],
      "metadata": {
        "execution": {
          "iopub.status.busy": "2023-06-07T11:48:57.096505Z",
          "iopub.execute_input": "2023-06-07T11:48:57.097357Z",
          "iopub.status.idle": "2023-06-07T11:48:57.106927Z",
          "shell.execute_reply.started": "2023-06-07T11:48:57.097310Z",
          "shell.execute_reply": "2023-06-07T11:48:57.105890Z"
        },
        "trusted": true,
        "id": "J2CXgYDaCmoH"
      },
      "execution_count": null,
      "outputs": []
    },
    {
      "cell_type": "code",
      "source": [
        "# Create the sequential model\n",
        "model = Sequential()\n",
        "model.add(Convolution2D(32,(3,3),activation='relu',input_shape=(120,120, 3)))\n",
        "model.add(MaxPooling2D(pool_size=(2,2)))\n",
        "model.add(Flatten())\n",
        "model.add(Dense(64,activation='relu'))\n",
        "model.add(Dense(16,activation='softmax'))"
      ],
      "metadata": {
        "execution": {
          "iopub.status.busy": "2023-06-07T11:48:57.108466Z",
          "iopub.execute_input": "2023-06-07T11:48:57.108804Z",
          "iopub.status.idle": "2023-06-07T11:49:00.372491Z",
          "shell.execute_reply.started": "2023-06-07T11:48:57.108771Z",
          "shell.execute_reply": "2023-06-07T11:49:00.371427Z"
        },
        "trusted": true,
        "id": "vhXM_PbiCmoI"
      },
      "execution_count": null,
      "outputs": []
    },
    {
      "cell_type": "code",
      "source": [
        "# Compile the model\n",
        "model.compile(optimizer='adam', loss='categorical_crossentropy', metrics=['accuracy'])"
      ],
      "metadata": {
        "execution": {
          "iopub.status.busy": "2023-06-07T11:49:00.373779Z",
          "iopub.execute_input": "2023-06-07T11:49:00.374172Z",
          "iopub.status.idle": "2023-06-07T11:49:00.393325Z",
          "shell.execute_reply.started": "2023-06-07T11:49:00.374137Z",
          "shell.execute_reply": "2023-06-07T11:49:00.392110Z"
        },
        "trusted": true,
        "id": "lRzPsCr4CmoI"
      },
      "execution_count": null,
      "outputs": []
    },
    {
      "cell_type": "code",
      "source": [
        "# Train the model\n",
        "model.fit(train,batch_size=10,validation_data=test,epochs=20)"
      ],
      "metadata": {
        "execution": {
          "iopub.status.busy": "2023-06-07T11:49:00.398125Z",
          "iopub.execute_input": "2023-06-07T11:49:00.398427Z",
          "iopub.status.idle": "2023-06-07T12:08:26.644305Z",
          "shell.execute_reply.started": "2023-06-07T11:49:00.398401Z",
          "shell.execute_reply": "2023-06-07T12:08:26.643087Z"
        },
        "trusted": true,
        "id": "PVmW2Iy4CmoI",
        "outputId": "c0a2720e-09f7-4ca7-cf88-397451c7ace4"
      },
      "execution_count": null,
      "outputs": [
        {
          "name": "stdout",
          "text": "Epoch 1/20\n15/15 [==============================] - 51s 3s/step - loss: 4.7918 - accuracy: 0.0467 - val_loss: 2.9432 - val_accuracy: 0.0955\nEpoch 2/20\n15/15 [==============================] - 46s 3s/step - loss: 2.7400 - accuracy: 0.0800 - val_loss: 2.7841 - val_accuracy: 0.1083\nEpoch 3/20\n15/15 [==============================] - 45s 3s/step - loss: 2.6152 - accuracy: 0.1333 - val_loss: 2.7942 - val_accuracy: 0.1019\nEpoch 4/20\n15/15 [==============================] - 43s 3s/step - loss: 2.5164 - accuracy: 0.2000 - val_loss: 2.9206 - val_accuracy: 0.1338\nEpoch 5/20\n15/15 [==============================] - 45s 3s/step - loss: 2.3636 - accuracy: 0.2400 - val_loss: 2.8708 - val_accuracy: 0.2166\nEpoch 6/20\n15/15 [==============================] - 45s 3s/step - loss: 2.2591 - accuracy: 0.3200 - val_loss: 2.8013 - val_accuracy: 0.1083\nEpoch 7/20\n15/15 [==============================] - 45s 3s/step - loss: 2.0265 - accuracy: 0.3600 - val_loss: 2.8608 - val_accuracy: 0.1401\nEpoch 8/20\n15/15 [==============================] - 45s 3s/step - loss: 1.9242 - accuracy: 0.4800 - val_loss: 3.0998 - val_accuracy: 0.1592\nEpoch 9/20\n15/15 [==============================] - 45s 3s/step - loss: 1.6516 - accuracy: 0.5133 - val_loss: 2.9334 - val_accuracy: 0.1592\nEpoch 10/20\n15/15 [==============================] - 47s 3s/step - loss: 1.4374 - accuracy: 0.5667 - val_loss: 3.0052 - val_accuracy: 0.2038\nEpoch 11/20\n15/15 [==============================] - 46s 3s/step - loss: 1.3822 - accuracy: 0.6267 - val_loss: 3.0918 - val_accuracy: 0.2166\nEpoch 12/20\n15/15 [==============================] - 45s 3s/step - loss: 1.0756 - accuracy: 0.7267 - val_loss: 3.1792 - val_accuracy: 0.1847\nEpoch 13/20\n15/15 [==============================] - 45s 3s/step - loss: 0.8164 - accuracy: 0.7733 - val_loss: 2.9974 - val_accuracy: 0.2229\nEpoch 14/20\n15/15 [==============================] - 45s 3s/step - loss: 0.6421 - accuracy: 0.8600 - val_loss: 3.6907 - val_accuracy: 0.1975\nEpoch 15/20\n15/15 [==============================] - 45s 3s/step - loss: 0.5685 - accuracy: 0.8333 - val_loss: 3.2225 - val_accuracy: 0.2102\nEpoch 16/20\n15/15 [==============================] - 45s 3s/step - loss: 0.5092 - accuracy: 0.8600 - val_loss: 3.4214 - val_accuracy: 0.2102\nEpoch 17/20\n15/15 [==============================] - 46s 3s/step - loss: 0.3915 - accuracy: 0.9133 - val_loss: 3.1419 - val_accuracy: 0.2166\nEpoch 18/20\n15/15 [==============================] - 46s 3s/step - loss: 0.2804 - accuracy: 0.9400 - val_loss: 3.6170 - val_accuracy: 0.2293\nEpoch 19/20\n15/15 [==============================] - 47s 3s/step - loss: 0.2494 - accuracy: 0.9667 - val_loss: 3.1945 - val_accuracy: 0.2102\nEpoch 20/20\n15/15 [==============================] - 44s 3s/step - loss: 0.1790 - accuracy: 0.9733 - val_loss: 3.5666 - val_accuracy: 0.2484\n",
          "output_type": "stream"
        },
        {
          "execution_count": 10,
          "output_type": "execute_result",
          "data": {
            "text/plain": "<keras.callbacks.History at 0x78cbf834ead0>"
          },
          "metadata": {}
        }
      ]
    },
    {
      "cell_type": "code",
      "source": [
        "# Evaluate the model on the testing data\n",
        "test_loss, test_accuracy = model.evaluate(test)\n",
        "print('Test Loss:', test_loss)\n",
        "print('Test Accuracy:', test_accuracy)"
      ],
      "metadata": {
        "execution": {
          "iopub.status.busy": "2023-06-07T12:08:26.646350Z",
          "iopub.execute_input": "2023-06-07T12:08:26.646735Z",
          "iopub.status.idle": "2023-06-07T12:08:55.302803Z",
          "shell.execute_reply.started": "2023-06-07T12:08:26.646698Z",
          "shell.execute_reply": "2023-06-07T12:08:55.301851Z"
        },
        "trusted": true,
        "id": "h82Mxu-GCmoJ",
        "outputId": "f34af3cc-5abe-4bee-f24d-aeae22f10f8f"
      },
      "execution_count": null,
      "outputs": [
        {
          "name": "stdout",
          "text": "16/16 [==============================] - 26s 2s/step - loss: 3.5666 - accuracy: 0.2484\nTest Loss: 3.5666325092315674\nTest Accuracy: 0.24840764701366425\n",
          "output_type": "stream"
        }
      ]
    },
    {
      "cell_type": "code",
      "source": [
        "# Testing\n",
        "\n",
        "import numpy as np\n",
        "from tensorflow.keras.preprocessing import image"
      ],
      "metadata": {
        "execution": {
          "iopub.status.busy": "2023-06-07T12:08:55.304540Z",
          "iopub.execute_input": "2023-06-07T12:08:55.304967Z",
          "iopub.status.idle": "2023-06-07T12:08:55.313783Z",
          "shell.execute_reply.started": "2023-06-07T12:08:55.304927Z",
          "shell.execute_reply": "2023-06-07T12:08:55.312688Z"
        },
        "trusted": true,
        "id": "QKCT5JonCmoJ"
      },
      "execution_count": null,
      "outputs": []
    },
    {
      "cell_type": "code",
      "source": [
        "birds = list(train.class_indices.keys())\n",
        "birds"
      ],
      "metadata": {
        "execution": {
          "iopub.status.busy": "2023-06-07T12:08:55.315737Z",
          "iopub.execute_input": "2023-06-07T12:08:55.316851Z",
          "iopub.status.idle": "2023-06-07T12:08:55.325906Z",
          "shell.execute_reply.started": "2023-06-07T12:08:55.316823Z",
          "shell.execute_reply": "2023-06-07T12:08:55.324819Z"
        },
        "trusted": true,
        "id": "RsgwUZV8CmoJ",
        "outputId": "f00baf2d-f5ee-49a6-c14a-5565276823ee"
      },
      "execution_count": null,
      "outputs": [
        {
          "execution_count": 13,
          "output_type": "execute_result",
          "data": {
            "text/plain": "['blasti',\n 'bonegl',\n 'brhkyt',\n 'cbrtsh',\n 'cmnmyn',\n 'gretit',\n 'hilpig',\n 'himbul',\n 'himgri',\n 'hsparo',\n 'indvul',\n 'jglowl',\n 'lbicrw',\n 'mgprob',\n 'rebimg',\n 'wcrsrt']"
          },
          "metadata": {}
        }
      ]
    },
    {
      "cell_type": "code",
      "source": [
        "# Testing 1\n",
        "img1 = image.load_img('/kaggle/input/bird-species-classification/train_data/train_data/himgri/12152037683_13e1556c41_o.jpg',target_size = (120,120))\n",
        "img1 = image.img_to_array(np.squeeze(img1))\n",
        "img1 = np.expand_dims(img1, axis=0)  # Add an extra dimension to match the model's input shape\n",
        "pred = np.argmax(model.predict(img1))\n",
        "print(pred)\n",
        "birds[pred]"
      ],
      "metadata": {
        "execution": {
          "iopub.status.busy": "2023-06-07T12:08:55.327988Z",
          "iopub.execute_input": "2023-06-07T12:08:55.328490Z",
          "iopub.status.idle": "2023-06-07T12:08:55.660556Z",
          "shell.execute_reply.started": "2023-06-07T12:08:55.328453Z",
          "shell.execute_reply": "2023-06-07T12:08:55.659362Z"
        },
        "trusted": true,
        "id": "7y91Z6JfCmoJ",
        "outputId": "8275690d-247f-4490-e348-7ae9f88358c4"
      },
      "execution_count": null,
      "outputs": [
        {
          "name": "stdout",
          "text": "1/1 [==============================] - 0s 122ms/step\n8\n",
          "output_type": "stream"
        },
        {
          "execution_count": 14,
          "output_type": "execute_result",
          "data": {
            "text/plain": "'himgri'"
          },
          "metadata": {}
        }
      ]
    },
    {
      "cell_type": "code",
      "source": [
        "# Testing 2\n",
        "img2 = image.load_img('/kaggle/input/bird-species-classification/test_data/test_data/rebimg/13009315305_f1cbfb6767_o.jpg',target_size = (120,120))\n",
        "img2 = image.img_to_array(np.squeeze(img2))\n",
        "img2 = np.expand_dims(img2, axis=0)  # Add an extra dimension to match the model's input shape\n",
        "pred = np.argmax(model.predict(img2))\n",
        "print(pred)\n",
        "birds[pred]\n"
      ],
      "metadata": {
        "execution": {
          "iopub.status.busy": "2023-06-07T12:08:55.662066Z",
          "iopub.execute_input": "2023-06-07T12:08:55.662733Z",
          "iopub.status.idle": "2023-06-07T12:08:55.819341Z",
          "shell.execute_reply.started": "2023-06-07T12:08:55.662693Z",
          "shell.execute_reply": "2023-06-07T12:08:55.818287Z"
        },
        "trusted": true,
        "id": "7h5RMkGLCmoJ",
        "outputId": "2ba3d4e6-9410-43a0-833a-9f3127c33ff0"
      },
      "execution_count": null,
      "outputs": [
        {
          "name": "stdout",
          "text": "1/1 [==============================] - 0s 20ms/step\n7\n",
          "output_type": "stream"
        },
        {
          "execution_count": 15,
          "output_type": "execute_result",
          "data": {
            "text/plain": "'himbul'"
          },
          "metadata": {}
        }
      ]
    },
    {
      "cell_type": "code",
      "source": [
        "# Testing 3\n",
        "img3 = image.load_img('/kaggle/input/bird-species-classification/train_data/train_data/hsparo/100_5050.JPG',target_size = (120,120))\n",
        "img3 = image.img_to_array(np.squeeze(img3))\n",
        "img3 = np.expand_dims(img3, axis=0)  # Add an extra dimension to match the model's input shape\n",
        "pred = np.argmax(model.predict(img3))\n",
        "print(pred)\n",
        "birds[pred]"
      ],
      "metadata": {
        "execution": {
          "iopub.status.busy": "2023-06-07T12:08:55.821021Z",
          "iopub.execute_input": "2023-06-07T12:08:55.822102Z",
          "iopub.status.idle": "2023-06-07T12:08:55.927244Z",
          "shell.execute_reply.started": "2023-06-07T12:08:55.822057Z",
          "shell.execute_reply": "2023-06-07T12:08:55.926171Z"
        },
        "trusted": true,
        "id": "l_PRKmpaCmoJ",
        "outputId": "59127ae0-4a07-4087-a139-795e7b1ba1a9"
      },
      "execution_count": null,
      "outputs": [
        {
          "name": "stdout",
          "text": "1/1 [==============================] - 0s 20ms/step\n9\n",
          "output_type": "stream"
        },
        {
          "execution_count": 16,
          "output_type": "execute_result",
          "data": {
            "text/plain": "'hsparo'"
          },
          "metadata": {}
        }
      ]
    },
    {
      "cell_type": "code",
      "source": [
        "# Testing 4\n",
        "img4 = image.load_img('/kaggle/input/bird-species-classification/test_data/test_data/brhkyt/D72_0474.jpg',target_size = (120,120))\n",
        "img4 = image.img_to_array(np.squeeze(img4))\n",
        "img4 = np.expand_dims(img4, axis=0)  # Add an extra dimension to match the model's input shape\n",
        "pred = np.argmax(model.predict(img4))\n",
        "print(pred)\n",
        "birds[pred]"
      ],
      "metadata": {
        "execution": {
          "iopub.status.busy": "2023-06-07T12:08:55.928939Z",
          "iopub.execute_input": "2023-06-07T12:08:55.929416Z",
          "iopub.status.idle": "2023-06-07T12:08:56.085175Z",
          "shell.execute_reply.started": "2023-06-07T12:08:55.929379Z",
          "shell.execute_reply": "2023-06-07T12:08:56.084033Z"
        },
        "trusted": true,
        "id": "TV62fOW9CmoK",
        "outputId": "3ce42c68-11e9-4578-807e-583f891af231"
      },
      "execution_count": null,
      "outputs": [
        {
          "name": "stdout",
          "text": "1/1 [==============================] - 0s 19ms/step\n2\n",
          "output_type": "stream"
        },
        {
          "execution_count": 17,
          "output_type": "execute_result",
          "data": {
            "text/plain": "'brhkyt'"
          },
          "metadata": {}
        }
      ]
    },
    {
      "cell_type": "markdown",
      "source": [
        "## Model Tuning (Adding feature extraction layers)"
      ],
      "metadata": {
        "id": "mfg_Dc9rCmoK"
      }
    },
    {
      "cell_type": "code",
      "source": [
        "model = Sequential()\n",
        "model.add(Convolution2D(64,(3,3),activation='relu',input_shape=(120,120, 3)))\n",
        "model.add(MaxPooling2D(pool_size=(2,2)))\n",
        "model.add(Convolution2D(128,(3,3),activation='relu'))\n",
        "model.add(MaxPooling2D(pool_size=(2,2)))\n",
        "model.add(Convolution2D(256,(3,3),activation='relu'))\n",
        "model.add(MaxPooling2D(pool_size=(2,2)))\n",
        "model.add(Flatten())\n",
        "model.add(Dense(128,activation='relu'))\n",
        "model.add(Dense(64,activation='relu'))\n",
        "model.add(Dense(32,activation='relu'))\n",
        "model.add(Dense(16,activation='softmax'))"
      ],
      "metadata": {
        "execution": {
          "iopub.status.busy": "2023-06-07T12:37:14.653254Z",
          "iopub.execute_input": "2023-06-07T12:37:14.653631Z",
          "iopub.status.idle": "2023-06-07T12:37:14.757805Z",
          "shell.execute_reply.started": "2023-06-07T12:37:14.653599Z",
          "shell.execute_reply": "2023-06-07T12:37:14.756866Z"
        },
        "trusted": true,
        "id": "UbwQ_WYPCmoK"
      },
      "execution_count": null,
      "outputs": []
    },
    {
      "cell_type": "code",
      "source": [
        "model.summary()"
      ],
      "metadata": {
        "execution": {
          "iopub.status.busy": "2023-06-07T12:37:14.759944Z",
          "iopub.execute_input": "2023-06-07T12:37:14.760399Z",
          "iopub.status.idle": "2023-06-07T12:37:14.795462Z",
          "shell.execute_reply.started": "2023-06-07T12:37:14.760363Z",
          "shell.execute_reply": "2023-06-07T12:37:14.794577Z"
        },
        "trusted": true,
        "id": "fbnf9I0YCmoK",
        "outputId": "ff21b13f-403f-446c-8a62-6b5444689145"
      },
      "execution_count": null,
      "outputs": [
        {
          "name": "stdout",
          "text": "Model: \"sequential_2\"\n_________________________________________________________________\n Layer (type)                Output Shape              Param #   \n=================================================================\n conv2d_4 (Conv2D)           (None, 118, 118, 64)      1792      \n                                                                 \n max_pooling2d_4 (MaxPooling  (None, 59, 59, 64)       0         \n 2D)                                                             \n                                                                 \n conv2d_5 (Conv2D)           (None, 57, 57, 128)       73856     \n                                                                 \n max_pooling2d_5 (MaxPooling  (None, 28, 28, 128)      0         \n 2D)                                                             \n                                                                 \n conv2d_6 (Conv2D)           (None, 26, 26, 256)       295168    \n                                                                 \n max_pooling2d_6 (MaxPooling  (None, 13, 13, 256)      0         \n 2D)                                                             \n                                                                 \n flatten_2 (Flatten)         (None, 43264)             0         \n                                                                 \n dense_6 (Dense)             (None, 128)               5537920   \n                                                                 \n dense_7 (Dense)             (None, 64)                8256      \n                                                                 \n dense_8 (Dense)             (None, 32)                2080      \n                                                                 \n dense_9 (Dense)             (None, 16)                528       \n                                                                 \n=================================================================\nTotal params: 5,919,600\nTrainable params: 5,919,600\nNon-trainable params: 0\n_________________________________________________________________\n",
          "output_type": "stream"
        }
      ]
    },
    {
      "cell_type": "code",
      "source": [
        "model.compile(optimizer='adam', loss='categorical_crossentropy', metrics=['accuracy'])"
      ],
      "metadata": {
        "execution": {
          "iopub.status.busy": "2023-06-07T12:37:14.796639Z",
          "iopub.execute_input": "2023-06-07T12:37:14.797223Z",
          "iopub.status.idle": "2023-06-07T12:37:14.818367Z",
          "shell.execute_reply.started": "2023-06-07T12:37:14.797185Z",
          "shell.execute_reply": "2023-06-07T12:37:14.817339Z"
        },
        "trusted": true,
        "id": "yNshmi1JCmoK"
      },
      "execution_count": null,
      "outputs": []
    },
    {
      "cell_type": "code",
      "source": [
        "model.fit(train,batch_size=10,validation_data=test,epochs=30)"
      ],
      "metadata": {
        "execution": {
          "iopub.status.busy": "2023-06-07T12:37:14.820755Z",
          "iopub.execute_input": "2023-06-07T12:37:14.821428Z",
          "iopub.status.idle": "2023-06-07T13:07:08.114333Z",
          "shell.execute_reply.started": "2023-06-07T12:37:14.821390Z",
          "shell.execute_reply": "2023-06-07T13:07:08.113047Z"
        },
        "trusted": true,
        "id": "ixJ1eWnXCmoL",
        "outputId": "3faf684e-1a5b-4219-ee8a-51938f0ce1e4"
      },
      "execution_count": null,
      "outputs": [
        {
          "name": "stdout",
          "text": "Epoch 1/30\n15/15 [==============================] - 49s 3s/step - loss: 2.8094 - accuracy: 0.0867 - val_loss: 2.7304 - val_accuracy: 0.0955\nEpoch 2/30\n15/15 [==============================] - 45s 3s/step - loss: 2.6871 - accuracy: 0.1533 - val_loss: 2.7378 - val_accuracy: 0.1274\nEpoch 3/30\n15/15 [==============================] - 44s 3s/step - loss: 2.6502 - accuracy: 0.1333 - val_loss: 2.7447 - val_accuracy: 0.1274\nEpoch 4/30\n15/15 [==============================] - 45s 3s/step - loss: 2.5793 - accuracy: 0.1733 - val_loss: 2.7320 - val_accuracy: 0.1274\nEpoch 5/30\n15/15 [==============================] - 45s 3s/step - loss: 2.5576 - accuracy: 0.1933 - val_loss: 2.7342 - val_accuracy: 0.1338\nEpoch 6/30\n15/15 [==============================] - 45s 3s/step - loss: 2.5420 - accuracy: 0.1800 - val_loss: 2.7878 - val_accuracy: 0.1465\nEpoch 7/30\n15/15 [==============================] - 45s 3s/step - loss: 2.4372 - accuracy: 0.2400 - val_loss: 2.7546 - val_accuracy: 0.1529\nEpoch 8/30\n15/15 [==============================] - 60s 4s/step - loss: 2.3685 - accuracy: 0.3000 - val_loss: 2.6672 - val_accuracy: 0.1529\nEpoch 9/30\n15/15 [==============================] - 44s 3s/step - loss: 2.2668 - accuracy: 0.2933 - val_loss: 2.6773 - val_accuracy: 0.1847\nEpoch 10/30\n15/15 [==============================] - 45s 3s/step - loss: 2.1197 - accuracy: 0.3200 - val_loss: 2.8856 - val_accuracy: 0.2484\nEpoch 11/30\n15/15 [==============================] - 45s 3s/step - loss: 1.9990 - accuracy: 0.3733 - val_loss: 2.8034 - val_accuracy: 0.2038\nEpoch 12/30\n15/15 [==============================] - 44s 3s/step - loss: 1.9118 - accuracy: 0.3533 - val_loss: 2.7430 - val_accuracy: 0.1465\nEpoch 13/30\n15/15 [==============================] - 44s 3s/step - loss: 1.9298 - accuracy: 0.3333 - val_loss: 2.7199 - val_accuracy: 0.2548\nEpoch 14/30\n15/15 [==============================] - 46s 3s/step - loss: 1.7050 - accuracy: 0.4200 - val_loss: 2.6875 - val_accuracy: 0.2166\nEpoch 15/30\n15/15 [==============================] - 44s 3s/step - loss: 1.5501 - accuracy: 0.5333 - val_loss: 3.0156 - val_accuracy: 0.2166\nEpoch 16/30\n15/15 [==============================] - 45s 3s/step - loss: 1.5677 - accuracy: 0.4933 - val_loss: 3.6234 - val_accuracy: 0.1847\nEpoch 17/30\n15/15 [==============================] - 44s 3s/step - loss: 1.6348 - accuracy: 0.5333 - val_loss: 2.7571 - val_accuracy: 0.1783\nEpoch 18/30\n15/15 [==============================] - 44s 3s/step - loss: 1.4427 - accuracy: 0.5467 - val_loss: 2.9632 - val_accuracy: 0.1783\nEpoch 19/30\n15/15 [==============================] - 45s 3s/step - loss: 1.2862 - accuracy: 0.6000 - val_loss: 3.2100 - val_accuracy: 0.1847\nEpoch 20/30\n15/15 [==============================] - 45s 3s/step - loss: 1.0157 - accuracy: 0.6600 - val_loss: 3.7881 - val_accuracy: 0.1592\nEpoch 21/30\n15/15 [==============================] - 44s 3s/step - loss: 1.3479 - accuracy: 0.6067 - val_loss: 3.6626 - val_accuracy: 0.2739\nEpoch 22/30\n15/15 [==============================] - 44s 3s/step - loss: 1.1384 - accuracy: 0.6067 - val_loss: 2.9629 - val_accuracy: 0.2548\nEpoch 23/30\n15/15 [==============================] - 44s 3s/step - loss: 0.7960 - accuracy: 0.7533 - val_loss: 3.3339 - val_accuracy: 0.2994\nEpoch 24/30\n15/15 [==============================] - 44s 3s/step - loss: 0.7745 - accuracy: 0.7133 - val_loss: 3.7927 - val_accuracy: 0.2803\nEpoch 25/30\n15/15 [==============================] - 46s 3s/step - loss: 0.6435 - accuracy: 0.7667 - val_loss: 4.1584 - val_accuracy: 0.2675\nEpoch 26/30\n15/15 [==============================] - 45s 3s/step - loss: 0.4244 - accuracy: 0.8600 - val_loss: 4.8596 - val_accuracy: 0.3185\nEpoch 27/30\n15/15 [==============================] - 44s 3s/step - loss: 0.5934 - accuracy: 0.8133 - val_loss: 5.4757 - val_accuracy: 0.2866\nEpoch 28/30\n15/15 [==============================] - 45s 3s/step - loss: 0.6905 - accuracy: 0.7600 - val_loss: 5.6186 - val_accuracy: 0.2548\nEpoch 29/30\n15/15 [==============================] - 45s 3s/step - loss: 0.4162 - accuracy: 0.8800 - val_loss: 4.3396 - val_accuracy: 0.3248\nEpoch 30/30\n15/15 [==============================] - 45s 3s/step - loss: 0.1893 - accuracy: 0.9400 - val_loss: 5.5351 - val_accuracy: 0.3185\n",
          "output_type": "stream"
        },
        {
          "execution_count": 31,
          "output_type": "execute_result",
          "data": {
            "text/plain": "<keras.callbacks.History at 0x78cb5cf61de0>"
          },
          "metadata": {}
        }
      ]
    },
    {
      "cell_type": "code",
      "source": [
        "# Testing 1\n",
        "img1 = image.load_img('/kaggle/input/bird-species-classification/train_data/train_data/himgri/12152037683_13e1556c41_o.jpg',target_size = (120,120))\n",
        "img1 = image.img_to_array(np.squeeze(img1))\n",
        "img1 = np.expand_dims(img1, axis=0)  # Add an extra dimension to match the model's input shape\n",
        "pred = np.argmax(model.predict(img1))\n",
        "print(pred)\n",
        "birds[pred]"
      ],
      "metadata": {
        "execution": {
          "iopub.status.busy": "2023-06-07T13:07:08.115823Z",
          "iopub.execute_input": "2023-06-07T13:07:08.116283Z",
          "iopub.status.idle": "2023-06-07T13:07:08.399897Z",
          "shell.execute_reply.started": "2023-06-07T13:07:08.116249Z",
          "shell.execute_reply": "2023-06-07T13:07:08.398686Z"
        },
        "trusted": true,
        "id": "yoL6ANi3CmoL",
        "outputId": "faef795d-662e-4088-b57b-d6611ded2455"
      },
      "execution_count": null,
      "outputs": [
        {
          "name": "stdout",
          "text": "1/1 [==============================] - 0s 97ms/step\n8\n",
          "output_type": "stream"
        },
        {
          "execution_count": 32,
          "output_type": "execute_result",
          "data": {
            "text/plain": "'himgri'"
          },
          "metadata": {}
        }
      ]
    },
    {
      "cell_type": "code",
      "source": [
        "# Testing 2\n",
        "img2 = image.load_img('/kaggle/input/bird-species-classification/test_data/test_data/rebimg/13009315305_f1cbfb6767_o.jpg',target_size = (120,120))\n",
        "img2 = image.img_to_array(np.squeeze(img2))\n",
        "img2 = np.expand_dims(img2, axis=0)  # Add an extra dimension to match the model's input shape\n",
        "pred = np.argmax(model.predict(img2))\n",
        "print(pred)\n",
        "birds[pred]"
      ],
      "metadata": {
        "execution": {
          "iopub.status.busy": "2023-06-07T13:07:08.401577Z",
          "iopub.execute_input": "2023-06-07T13:07:08.402243Z",
          "iopub.status.idle": "2023-06-07T13:07:08.562241Z",
          "shell.execute_reply.started": "2023-06-07T13:07:08.402203Z",
          "shell.execute_reply": "2023-06-07T13:07:08.561147Z"
        },
        "trusted": true,
        "id": "fZEB42tBCmoL",
        "outputId": "86c8b7e7-5b8a-4009-f3d9-1a7bb3a5db63"
      },
      "execution_count": null,
      "outputs": [
        {
          "name": "stdout",
          "text": "1/1 [==============================] - 0s 21ms/step\n9\n",
          "output_type": "stream"
        },
        {
          "execution_count": 33,
          "output_type": "execute_result",
          "data": {
            "text/plain": "'hsparo'"
          },
          "metadata": {}
        }
      ]
    },
    {
      "cell_type": "code",
      "source": [
        "# Testing 3\n",
        "img3 = image.load_img('/kaggle/input/bird-species-classification/train_data/train_data/hsparo/100_5050.JPG',target_size = (120,120))\n",
        "img3 = image.img_to_array(np.squeeze(img3))\n",
        "img3 = np.expand_dims(img3, axis=0)  # Add an extra dimension to match the model's input shape\n",
        "pred = np.argmax(model.predict(img3))\n",
        "print(pred)\n",
        "birds[pred]"
      ],
      "metadata": {
        "execution": {
          "iopub.status.busy": "2023-06-07T13:07:08.565303Z",
          "iopub.execute_input": "2023-06-07T13:07:08.565722Z",
          "iopub.status.idle": "2023-06-07T13:07:08.676563Z",
          "shell.execute_reply.started": "2023-06-07T13:07:08.565691Z",
          "shell.execute_reply": "2023-06-07T13:07:08.675339Z"
        },
        "trusted": true,
        "id": "KUPaE0ReCmoL",
        "outputId": "77ac3e05-da31-4fc8-fab7-0ed514151b54"
      },
      "execution_count": null,
      "outputs": [
        {
          "name": "stdout",
          "text": "1/1 [==============================] - 0s 20ms/step\n9\n",
          "output_type": "stream"
        },
        {
          "execution_count": 34,
          "output_type": "execute_result",
          "data": {
            "text/plain": "'hsparo'"
          },
          "metadata": {}
        }
      ]
    },
    {
      "cell_type": "code",
      "source": [
        "# Testing 4\n",
        "img4 = image.load_img('/kaggle/input/bird-species-classification/test_data/test_data/brhkyt/D72_0474.jpg',target_size = (120,120))\n",
        "img4 = image.img_to_array(np.squeeze(img4))\n",
        "img4 = np.expand_dims(img4, axis=0)  # Add an extra dimension to match the model's input shape\n",
        "pred = np.argmax(model.predict(img4))\n",
        "print(pred)\n",
        "birds[pred]"
      ],
      "metadata": {
        "execution": {
          "iopub.status.busy": "2023-06-07T13:07:08.680139Z",
          "iopub.execute_input": "2023-06-07T13:07:08.680486Z",
          "iopub.status.idle": "2023-06-07T13:07:08.848308Z",
          "shell.execute_reply.started": "2023-06-07T13:07:08.680437Z",
          "shell.execute_reply": "2023-06-07T13:07:08.847118Z"
        },
        "trusted": true,
        "id": "whLUFtEFCmoL",
        "outputId": "2f84d0bc-6da9-434b-e822-ffba1f680429"
      },
      "execution_count": null,
      "outputs": [
        {
          "name": "stdout",
          "text": "1/1 [==============================] - 0s 21ms/step\n2\n",
          "output_type": "stream"
        },
        {
          "execution_count": 35,
          "output_type": "execute_result",
          "data": {
            "text/plain": "'brhkyt'"
          },
          "metadata": {}
        }
      ]
    },
    {
      "cell_type": "markdown",
      "source": [
        "##  We can do Model tuning (with dropout, batch normalization & early stopping) but it is not necessary now."
      ],
      "metadata": {
        "id": "bgkGi51bCmoL"
      }
    }
  ]
}